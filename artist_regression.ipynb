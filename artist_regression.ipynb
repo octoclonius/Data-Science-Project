{
 "cells": [
  {
   "cell_type": "code",
   "execution_count": 9,
   "id": "cf8d0801-624c-4cec-b24f-98edd59cc8cc",
   "metadata": {
    "tags": []
   },
   "outputs": [],
   "source": [
    "import numpy as np\n",
    "import pandas as pd\n",
    "pd.set_option('display.max_rows', None)\n",
    "pd.set_option('display.max_columns', None)\n",
    "pd.set_option('display.max_colwidth', None)\n",
    "from sklearn.decomposition import PCA\n",
    "from sklearn.ensemble import HistGradientBoostingRegressor\n",
    "from sklearn.metrics import mean_squared_error\n",
    "from sklearn.model_selection import train_test_split\n",
    "from sklearn.preprocessing import MinMaxScaler, StandardScaler"
   ]
  },
  {
   "cell_type": "code",
   "execution_count": 10,
   "id": "22b71665-fc79-4df0-b5b3-8c6600b23958",
   "metadata": {
    "tags": []
   },
   "outputs": [],
   "source": [
    "PATH_CSV = './top_3827348_songs.csv'\n",
    "SAMPLE_SIZE = None\n",
    "SEED = 42\n",
    "TRAIN_TEST_SPLIT = 0.75"
   ]
  },
  {
   "cell_type": "code",
   "execution_count": 11,
   "id": "c138efcf-22c8-4b08-8aae-821d3f28a8f5",
   "metadata": {
    "tags": []
   },
   "outputs": [
    {
     "data": {
      "text/html": [
       "<div>\n",
       "<style scoped>\n",
       "    .dataframe tbody tr th:only-of-type {\n",
       "        vertical-align: middle;\n",
       "    }\n",
       "\n",
       "    .dataframe tbody tr th {\n",
       "        vertical-align: top;\n",
       "    }\n",
       "\n",
       "    .dataframe thead th {\n",
       "        text-align: right;\n",
       "    }\n",
       "</style>\n",
       "<table border=\"1\" class=\"dataframe\">\n",
       "  <thead>\n",
       "    <tr style=\"text-align: right;\">\n",
       "      <th></th>\n",
       "      <th>id</th>\n",
       "      <th>name</th>\n",
       "      <th>duration</th>\n",
       "      <th>explicit</th>\n",
       "      <th>popularity</th>\n",
       "      <th>loudness</th>\n",
       "      <th>tempo</th>\n",
       "      <th>time_signature</th>\n",
       "      <th>key</th>\n",
       "      <th>mode</th>\n",
       "      <th>acousticness</th>\n",
       "      <th>danceability</th>\n",
       "      <th>energy</th>\n",
       "      <th>instrumentalness</th>\n",
       "      <th>liveness</th>\n",
       "      <th>speechiness</th>\n",
       "      <th>valence</th>\n",
       "      <th>artist_ids</th>\n",
       "      <th>artist_names</th>\n",
       "      <th>artist_followers</th>\n",
       "      <th>artist_popularities</th>\n",
       "      <th>album_ids</th>\n",
       "      <th>album_names</th>\n",
       "      <th>album_types</th>\n",
       "      <th>album_release_dates</th>\n",
       "      <th>album_popularities</th>\n",
       "      <th>genres</th>\n",
       "    </tr>\n",
       "  </thead>\n",
       "  <tbody>\n",
       "    <tr>\n",
       "      <th>0</th>\n",
       "      <td>b'0000gBWfr2zIFzE5tDzxca'</td>\n",
       "      <td>b'Sella Stercoraria'</td>\n",
       "      <td>507987</td>\n",
       "      <td>0</td>\n",
       "      <td>3</td>\n",
       "      <td>-8.065</td>\n",
       "      <td>80.509003</td>\n",
       "      <td>4</td>\n",
       "      <td>9</td>\n",
       "      <td>0</td>\n",
       "      <td>0.000013</td>\n",
       "      <td>0.322</td>\n",
       "      <td>0.670</td>\n",
       "      <td>0.559000</td>\n",
       "      <td>0.3510</td>\n",
       "      <td>0.0449</td>\n",
       "      <td>0.176</td>\n",
       "      <td>b'0Tgtl5beIMahbtIzV5jBXw'</td>\n",
       "      <td>b'Rattenf\\xc3\\xa4nger'</td>\n",
       "      <td>b'950'</td>\n",
       "      <td>b'7'</td>\n",
       "      <td>b'1HyOZ6YUbaWNdnPjo9UOUE'</td>\n",
       "      <td>b'Geisslerlieder'</td>\n",
       "      <td>b'album'</td>\n",
       "      <td>b'1575590400000'</td>\n",
       "      <td>b'8'</td>\n",
       "      <td>b'ukrainian metal'</td>\n",
       "    </tr>\n",
       "    <tr>\n",
       "      <th>1</th>\n",
       "      <td>b'0003Z98F6hUq7XxqSRM87H'</td>\n",
       "      <td>b'\\xd0\\x9c\\xd0\\xb5\\xd0\\xbd\\xd1\\x8f \\xd0\\xb1\\xd0\\xbe\\xd0\\xbb\\xd1\\x8c\\xd1\\x88\\xd0\\xb5 \\xd1\\x82\\xd1\\x83\\xd1\\x82 \\xd0\\xbd\\xd0\\xb5\\xd1\\x82'</td>\n",
       "      <td>241666</td>\n",
       "      <td>1</td>\n",
       "      <td>18</td>\n",
       "      <td>-5.408</td>\n",
       "      <td>138.076004</td>\n",
       "      <td>4</td>\n",
       "      <td>1</td>\n",
       "      <td>1</td>\n",
       "      <td>0.086000</td>\n",
       "      <td>0.733</td>\n",
       "      <td>0.711</td>\n",
       "      <td>0.000000</td>\n",
       "      <td>0.4510</td>\n",
       "      <td>0.1580</td>\n",
       "      <td>0.346</td>\n",
       "      <td>b'08RxfNkJpjJ4dJb4xASWzj'</td>\n",
       "      <td>b'Jacques Anthony'</td>\n",
       "      <td>b'0'</td>\n",
       "      <td>b'0'</td>\n",
       "      <td>b'0003Z98F6hUq7XxqSRM87H'</td>\n",
       "      <td>b'#NoName'</td>\n",
       "      <td>b'album'</td>\n",
       "      <td>b'1436400000000'</td>\n",
       "      <td>b'17'</td>\n",
       "      <td>b'russian hip hop,russian trap'</td>\n",
       "    </tr>\n",
       "    <tr>\n",
       "      <th>2</th>\n",
       "      <td>b'0003q2V7hAiIYyzXV4sNyQ'</td>\n",
       "      <td>b'Das wilde Pack, Teil 1: Das wilde Pack, Kapitel 5'</td>\n",
       "      <td>200974</td>\n",
       "      <td>0</td>\n",
       "      <td>11</td>\n",
       "      <td>-14.880</td>\n",
       "      <td>79.250000</td>\n",
       "      <td>3</td>\n",
       "      <td>0</td>\n",
       "      <td>1</td>\n",
       "      <td>0.500000</td>\n",
       "      <td>0.520</td>\n",
       "      <td>0.416</td>\n",
       "      <td>0.000000</td>\n",
       "      <td>0.5950</td>\n",
       "      <td>0.9540</td>\n",
       "      <td>0.538</td>\n",
       "      <td>b'7vYT04Nb7z9QUTf4F8oG2c'</td>\n",
       "      <td>b'Das wilde Pack'</td>\n",
       "      <td>b'3090'</td>\n",
       "      <td>b'24'</td>\n",
       "      <td>b'7uwWybYhEK3rhg6QDJo9Rw'</td>\n",
       "      <td>b'Teil 1: Das wilde Pack'</td>\n",
       "      <td>b'album'</td>\n",
       "      <td>b'1225238400000'</td>\n",
       "      <td>b'21'</td>\n",
       "      <td>b'kleine hoerspiel'</td>\n",
       "    </tr>\n",
       "    <tr>\n",
       "      <th>3</th>\n",
       "      <td>b'000490QTLqT1ftnfwj3kGF'</td>\n",
       "      <td>b'Disco Guitar'</td>\n",
       "      <td>73195</td>\n",
       "      <td>0</td>\n",
       "      <td>2</td>\n",
       "      <td>-14.496</td>\n",
       "      <td>157.445007</td>\n",
       "      <td>4</td>\n",
       "      <td>1</td>\n",
       "      <td>1</td>\n",
       "      <td>0.665000</td>\n",
       "      <td>0.742</td>\n",
       "      <td>0.661</td>\n",
       "      <td>0.000052</td>\n",
       "      <td>0.3070</td>\n",
       "      <td>0.1180</td>\n",
       "      <td>0.922</td>\n",
       "      <td>b'0cKrM2XKF7wxyfEQDauvyQ'</td>\n",
       "      <td>b'DJ Godfather'</td>\n",
       "      <td>b'0'</td>\n",
       "      <td>b'0'</td>\n",
       "      <td>b'1sDqcoOS1JuKSFHNkcU4jL'</td>\n",
       "      <td>b'Da Bomb Vol 1'</td>\n",
       "      <td>b'album'</td>\n",
       "      <td>b'975974400000'</td>\n",
       "      <td>b'10'</td>\n",
       "      <td>b'electro,ghettotech'</td>\n",
       "    </tr>\n",
       "    <tr>\n",
       "      <th>4</th>\n",
       "      <td>b'00053lDuLvN8Q8voGT3GCt'</td>\n",
       "      <td>b'Soki'</td>\n",
       "      <td>279880</td>\n",
       "      <td>0</td>\n",
       "      <td>1</td>\n",
       "      <td>-5.135</td>\n",
       "      <td>104.961998</td>\n",
       "      <td>4</td>\n",
       "      <td>7</td>\n",
       "      <td>1</td>\n",
       "      <td>0.673000</td>\n",
       "      <td>0.622</td>\n",
       "      <td>0.734</td>\n",
       "      <td>0.000002</td>\n",
       "      <td>0.0954</td>\n",
       "      <td>0.0476</td>\n",
       "      <td>0.481</td>\n",
       "      <td>b'6HAIuUS4d8W4zjDTl6rsaU'</td>\n",
       "      <td>b'Barbara Kanam'</td>\n",
       "      <td>b'0'</td>\n",
       "      <td>b'0'</td>\n",
       "      <td>b'6XAXAPWJCpXmracdcF30Jr'</td>\n",
       "      <td>b'Karibu'</td>\n",
       "      <td>b'album'</td>\n",
       "      <td>b'1230768000000'</td>\n",
       "      <td>b'14'</td>\n",
       "      <td>b'makossa'</td>\n",
       "    </tr>\n",
       "  </tbody>\n",
       "</table>\n",
       "</div>"
      ],
      "text/plain": [
       "                          id  \\\n",
       "0  b'0000gBWfr2zIFzE5tDzxca'   \n",
       "1  b'0003Z98F6hUq7XxqSRM87H'   \n",
       "2  b'0003q2V7hAiIYyzXV4sNyQ'   \n",
       "3  b'000490QTLqT1ftnfwj3kGF'   \n",
       "4  b'00053lDuLvN8Q8voGT3GCt'   \n",
       "\n",
       "                                                                                                                                     name  \\\n",
       "0                                                                                                                    b'Sella Stercoraria'   \n",
       "1  b'\\xd0\\x9c\\xd0\\xb5\\xd0\\xbd\\xd1\\x8f \\xd0\\xb1\\xd0\\xbe\\xd0\\xbb\\xd1\\x8c\\xd1\\x88\\xd0\\xb5 \\xd1\\x82\\xd1\\x83\\xd1\\x82 \\xd0\\xbd\\xd0\\xb5\\xd1\\x82'   \n",
       "2                                                                                    b'Das wilde Pack, Teil 1: Das wilde Pack, Kapitel 5'   \n",
       "3                                                                                                                         b'Disco Guitar'   \n",
       "4                                                                                                                                 b'Soki'   \n",
       "\n",
       "   duration  explicit  popularity  loudness       tempo  time_signature  key  \\\n",
       "0    507987         0           3    -8.065   80.509003               4    9   \n",
       "1    241666         1          18    -5.408  138.076004               4    1   \n",
       "2    200974         0          11   -14.880   79.250000               3    0   \n",
       "3     73195         0           2   -14.496  157.445007               4    1   \n",
       "4    279880         0           1    -5.135  104.961998               4    7   \n",
       "\n",
       "   mode  acousticness  danceability  energy  instrumentalness  liveness  \\\n",
       "0     0      0.000013         0.322   0.670          0.559000    0.3510   \n",
       "1     1      0.086000         0.733   0.711          0.000000    0.4510   \n",
       "2     1      0.500000         0.520   0.416          0.000000    0.5950   \n",
       "3     1      0.665000         0.742   0.661          0.000052    0.3070   \n",
       "4     1      0.673000         0.622   0.734          0.000002    0.0954   \n",
       "\n",
       "   speechiness  valence                 artist_ids            artist_names  \\\n",
       "0       0.0449    0.176  b'0Tgtl5beIMahbtIzV5jBXw'  b'Rattenf\\xc3\\xa4nger'   \n",
       "1       0.1580    0.346  b'08RxfNkJpjJ4dJb4xASWzj'      b'Jacques Anthony'   \n",
       "2       0.9540    0.538  b'7vYT04Nb7z9QUTf4F8oG2c'       b'Das wilde Pack'   \n",
       "3       0.1180    0.922  b'0cKrM2XKF7wxyfEQDauvyQ'         b'DJ Godfather'   \n",
       "4       0.0476    0.481  b'6HAIuUS4d8W4zjDTl6rsaU'        b'Barbara Kanam'   \n",
       "\n",
       "  artist_followers artist_popularities                  album_ids  \\\n",
       "0           b'950'                b'7'  b'1HyOZ6YUbaWNdnPjo9UOUE'   \n",
       "1             b'0'                b'0'  b'0003Z98F6hUq7XxqSRM87H'   \n",
       "2          b'3090'               b'24'  b'7uwWybYhEK3rhg6QDJo9Rw'   \n",
       "3             b'0'                b'0'  b'1sDqcoOS1JuKSFHNkcU4jL'   \n",
       "4             b'0'                b'0'  b'6XAXAPWJCpXmracdcF30Jr'   \n",
       "\n",
       "                 album_names album_types album_release_dates  \\\n",
       "0          b'Geisslerlieder'    b'album'    b'1575590400000'   \n",
       "1                 b'#NoName'    b'album'    b'1436400000000'   \n",
       "2  b'Teil 1: Das wilde Pack'    b'album'    b'1225238400000'   \n",
       "3           b'Da Bomb Vol 1'    b'album'     b'975974400000'   \n",
       "4                  b'Karibu'    b'album'    b'1230768000000'   \n",
       "\n",
       "  album_popularities                           genres  \n",
       "0               b'8'               b'ukrainian metal'  \n",
       "1              b'17'  b'russian hip hop,russian trap'  \n",
       "2              b'21'              b'kleine hoerspiel'  \n",
       "3              b'10'            b'electro,ghettotech'  \n",
       "4              b'14'                       b'makossa'  "
      ]
     },
     "execution_count": 11,
     "metadata": {},
     "output_type": "execute_result"
    }
   ],
   "source": [
    "def to_str(x):\n",
    "    return x[2:-1]\n",
    "\n",
    "def to_list(x):\n",
    "    return [y for y in to_str(x).split(',')]\n",
    "\n",
    "df_complete = pd.read_csv(\n",
    "    PATH_CSV,\n",
    "    converters={\n",
    "        'id': to_str, 'name': to_str, 'duration': np.int32, 'explicit': np.int32,\n",
    "        'popularity': np.int32, 'loudness': np.float32, 'tempo': np.float32,\n",
    "        'time_signature': np.int32, 'key': np.int32, 'mode': np.int32, 'acousticness': np.float32,\n",
    "        'danceability': np.float32, 'energy': np.float32, 'instrumentalness': np.float32,\n",
    "        'liveness': np.float32, 'speechiness': np.float32, 'valence': np.float32,\n",
    "        'artist_ids': to_list, 'artist_names': to_list, 'artist_followers': to_list,\n",
    "        'artist_popularities': to_list, 'album_ids': to_list, 'album_names': to_list,\n",
    "        'album_types': to_list, 'album_release_dates': to_list, 'album_popularities': to_list,\n",
    "        'genres': to_list\n",
    "    }\n",
    ")\n",
    "df_complete.head()"
   ]
  },
  {
   "cell_type": "code",
   "execution_count": 12,
   "id": "1bd60147-20ce-441a-8101-043203335935",
   "metadata": {
    "tags": []
   },
   "outputs": [],
   "source": [
    "if SAMPLE_SIZE is not None:\n",
    "    df = df_complete.sample(n=SAMPLE_SIZE, random_state=SEED).copy()\n",
    "else:\n",
    "    df = df_complete.copy()"
   ]
  },
  {
   "cell_type": "code",
   "execution_count": 16,
   "id": "59104d6a-e65b-4ec5-a27a-405f0369a588",
   "metadata": {
    "tags": []
   },
   "outputs": [
    {
     "name": "stdout",
     "output_type": "stream",
     "text": [
      "478\n"
     ]
    }
   ],
   "source": [
    "df = df.set_index('id')\n",
    "df = df[df['artist_names'].apply(lambda x: 'Taylor Swift' in x)]\n",
    "df = df.sort_values(by='popularity', ascending=False)\n",
    "print(len(df))\n",
    "df.head()"
   ]
  },
  {
   "cell_type": "code",
   "execution_count": 27,
   "id": "011b8f1d-91e0-49f2-b817-9b7634acb445",
   "metadata": {
    "tags": []
   },
   "outputs": [],
   "source": [
    "df_data = df.select_dtypes(include='number').drop(columns=['popularity']).copy()\n",
    "df_labels = df[['popularity']].copy()\n",
    "X_train, X_test, y_train, y_test = train_test_split(df_data, df_labels, train_size=TRAIN_TEST_SPLIT, random_state=SEED)"
   ]
  },
  {
   "cell_type": "code",
   "execution_count": 28,
   "id": "332176ad-b50d-4b2d-9be4-464c3a53150f",
   "metadata": {
    "tags": []
   },
   "outputs": [],
   "source": [
    "std_scaler = StandardScaler()\n",
    "X_train = std_scaler.fit_transform(X_train)\n",
    "X_test = std_scaler.transform(X_test)"
   ]
  },
  {
   "cell_type": "code",
   "execution_count": 29,
   "id": "27b888bb-d1e9-4548-883b-762c890eef13",
   "metadata": {
    "tags": []
   },
   "outputs": [],
   "source": [
    "mm_scaler = MinMaxScaler()\n",
    "y_train = mm_scaler.fit_transform(y_train)\n",
    "y_test = mm_scaler.transform(y_test)"
   ]
  },
  {
   "cell_type": "code",
   "execution_count": 30,
   "id": "a690bff4-a052-4fdd-b599-b5557ae7cef8",
   "metadata": {
    "tags": []
   },
   "outputs": [
    {
     "name": "stderr",
     "output_type": "stream",
     "text": [
      "/Users/cnorthrup/anaconda3/lib/python3.11/site-packages/sklearn/utils/validation.py:1184: DataConversionWarning: A column-vector y was passed when a 1d array was expected. Please change the shape of y to (n_samples, ), for example using ravel().\n",
      "  y = column_or_1d(y, warn=True)\n"
     ]
    },
    {
     "data": {
      "text/html": [
       "<style>#sk-container-id-2 {color: black;}#sk-container-id-2 pre{padding: 0;}#sk-container-id-2 div.sk-toggleable {background-color: white;}#sk-container-id-2 label.sk-toggleable__label {cursor: pointer;display: block;width: 100%;margin-bottom: 0;padding: 0.3em;box-sizing: border-box;text-align: center;}#sk-container-id-2 label.sk-toggleable__label-arrow:before {content: \"▸\";float: left;margin-right: 0.25em;color: #696969;}#sk-container-id-2 label.sk-toggleable__label-arrow:hover:before {color: black;}#sk-container-id-2 div.sk-estimator:hover label.sk-toggleable__label-arrow:before {color: black;}#sk-container-id-2 div.sk-toggleable__content {max-height: 0;max-width: 0;overflow: hidden;text-align: left;background-color: #f0f8ff;}#sk-container-id-2 div.sk-toggleable__content pre {margin: 0.2em;color: black;border-radius: 0.25em;background-color: #f0f8ff;}#sk-container-id-2 input.sk-toggleable__control:checked~div.sk-toggleable__content {max-height: 200px;max-width: 100%;overflow: auto;}#sk-container-id-2 input.sk-toggleable__control:checked~label.sk-toggleable__label-arrow:before {content: \"▾\";}#sk-container-id-2 div.sk-estimator input.sk-toggleable__control:checked~label.sk-toggleable__label {background-color: #d4ebff;}#sk-container-id-2 div.sk-label input.sk-toggleable__control:checked~label.sk-toggleable__label {background-color: #d4ebff;}#sk-container-id-2 input.sk-hidden--visually {border: 0;clip: rect(1px 1px 1px 1px);clip: rect(1px, 1px, 1px, 1px);height: 1px;margin: -1px;overflow: hidden;padding: 0;position: absolute;width: 1px;}#sk-container-id-2 div.sk-estimator {font-family: monospace;background-color: #f0f8ff;border: 1px dotted black;border-radius: 0.25em;box-sizing: border-box;margin-bottom: 0.5em;}#sk-container-id-2 div.sk-estimator:hover {background-color: #d4ebff;}#sk-container-id-2 div.sk-parallel-item::after {content: \"\";width: 100%;border-bottom: 1px solid gray;flex-grow: 1;}#sk-container-id-2 div.sk-label:hover label.sk-toggleable__label {background-color: #d4ebff;}#sk-container-id-2 div.sk-serial::before {content: \"\";position: absolute;border-left: 1px solid gray;box-sizing: border-box;top: 0;bottom: 0;left: 50%;z-index: 0;}#sk-container-id-2 div.sk-serial {display: flex;flex-direction: column;align-items: center;background-color: white;padding-right: 0.2em;padding-left: 0.2em;position: relative;}#sk-container-id-2 div.sk-item {position: relative;z-index: 1;}#sk-container-id-2 div.sk-parallel {display: flex;align-items: stretch;justify-content: center;background-color: white;position: relative;}#sk-container-id-2 div.sk-item::before, #sk-container-id-2 div.sk-parallel-item::before {content: \"\";position: absolute;border-left: 1px solid gray;box-sizing: border-box;top: 0;bottom: 0;left: 50%;z-index: -1;}#sk-container-id-2 div.sk-parallel-item {display: flex;flex-direction: column;z-index: 1;position: relative;background-color: white;}#sk-container-id-2 div.sk-parallel-item:first-child::after {align-self: flex-end;width: 50%;}#sk-container-id-2 div.sk-parallel-item:last-child::after {align-self: flex-start;width: 50%;}#sk-container-id-2 div.sk-parallel-item:only-child::after {width: 0;}#sk-container-id-2 div.sk-dashed-wrapped {border: 1px dashed gray;margin: 0 0.4em 0.5em 0.4em;box-sizing: border-box;padding-bottom: 0.4em;background-color: white;}#sk-container-id-2 div.sk-label label {font-family: monospace;font-weight: bold;display: inline-block;line-height: 1.2em;}#sk-container-id-2 div.sk-label-container {text-align: center;}#sk-container-id-2 div.sk-container {/* jupyter's `normalize.less` sets `[hidden] { display: none; }` but bootstrap.min.css set `[hidden] { display: none !important; }` so we also need the `!important` here to be able to override the default hidden behavior on the sphinx rendered scikit-learn.org. See: https://github.com/scikit-learn/scikit-learn/issues/21755 */display: inline-block !important;position: relative;}#sk-container-id-2 div.sk-text-repr-fallback {display: none;}</style><div id=\"sk-container-id-2\" class=\"sk-top-container\"><div class=\"sk-text-repr-fallback\"><pre>HistGradientBoostingRegressor(random_state=42)</pre><b>In a Jupyter environment, please rerun this cell to show the HTML representation or trust the notebook. <br />On GitHub, the HTML representation is unable to render, please try loading this page with nbviewer.org.</b></div><div class=\"sk-container\" hidden><div class=\"sk-item\"><div class=\"sk-estimator sk-toggleable\"><input class=\"sk-toggleable__control sk-hidden--visually\" id=\"sk-estimator-id-2\" type=\"checkbox\" checked><label for=\"sk-estimator-id-2\" class=\"sk-toggleable__label sk-toggleable__label-arrow\">HistGradientBoostingRegressor</label><div class=\"sk-toggleable__content\"><pre>HistGradientBoostingRegressor(random_state=42)</pre></div></div></div></div></div>"
      ],
      "text/plain": [
       "HistGradientBoostingRegressor(random_state=42)"
      ]
     },
     "execution_count": 30,
     "metadata": {},
     "output_type": "execute_result"
    }
   ],
   "source": [
    "# HGBM Regression\n",
    "hgbm = HistGradientBoostingRegressor(random_state=SEED)\n",
    "hgbm.fit(X_train, y_train)"
   ]
  },
  {
   "cell_type": "code",
   "execution_count": 31,
   "id": "90cf5358-b673-4df2-b22f-e0c89b4961ae",
   "metadata": {
    "tags": []
   },
   "outputs": [
    {
     "name": "stdout",
     "output_type": "stream",
     "text": [
      "0.02116704448398822\n"
     ]
    }
   ],
   "source": [
    "results = hgbm.predict(X_test)\n",
    "print(mean_squared_error(y_test, results))"
   ]
  },
  {
   "cell_type": "code",
   "execution_count": 32,
   "id": "331680e0-70ca-49ff-8d37-5d76adba8221",
   "metadata": {
    "tags": []
   },
   "outputs": [
    {
     "name": "stdout",
     "output_type": "stream",
     "text": [
      "[ 3. 74. 62. 69. 69. 64. 49. 58. 51. 79. 39. 16. 43.  5. 68.  8. 74. 65.\n",
      " 18. 58. 34. 53. 59. 27. 86. 36. 79. 66. 48. 57. 50. 58. 17. 56. 72. 55.\n",
      " 78. 16. 60. 69. 73. 23. 58.  3. 68. 41. 24. 67. 25. 53. 25. 69. 39. 57.\n",
      " 56. 58. 69. 41.  3. 55. 62. 69. 71. 50. 60.  6. 69. 27. 37. 25. 42.  3.\n",
      "  5. 38. 17. 78.  6. 28. 77. 23. 39. 72. 56. 37. 39. 65. 60. 19. 75. 25.\n",
      " 39. 61. 73. 53. 43. 44. 56. 56. 39. 40. 76.  7. 73. 64. 50. 63. 58. 60.\n",
      " 72. 18. 63. 23. 75. 78. 70. 27. 67. 74. 67. 38.]\n",
      "Mean Squared Error: 145.81976945019488\n"
     ]
    }
   ],
   "source": [
    "X_test_transformed = std_scaler.inverse_transform(X_test)\n",
    "y_test_transformed = mm_scaler.inverse_transform(y_test.reshape(-1, 1)).ravel()\n",
    "print(y_test_transformed)\n",
    "results_transformed = mm_scaler.inverse_transform(results.reshape(-1, 1)).ravel()\n",
    "mse = mean_squared_error(y_test_transformed, results_transformed)\n",
    "print(\"Mean Squared Error:\", mse)"
   ]
  },
  {
   "cell_type": "code",
   "execution_count": 33,
   "id": "c9ceeaa8-7120-4143-8810-877d2f4479bd",
   "metadata": {
    "tags": []
   },
   "outputs": [
    {
     "data": {
      "image/png": "[encoded data removed]",
      "text/plain": [
       "<Figure size 800x600 with 1 Axes>"
      ]
     },
     "metadata": {},
     "output_type": "display_data"
    }
   ],
   "source": [
    "import matplotlib.pyplot as plt\n",
    "\n",
    "plt.figure(figsize=(8, 6))\n",
    "plt.scatter(y_test_transformed, results_transformed, color='blue', alpha=0.5)\n",
    "plt.plot([y_test_transformed.min(), y_test_transformed.max()], [y_test_transformed.min(), y_test_transformed.max()], 'k--', lw=2)\n",
    "plt.xlabel('Actual')\n",
    "plt.ylabel('Predicted')\n",
    "plt.title('Actual vs Predicted')\n",
    "plt.show()"
   ]
  },
  {
   "cell_type": "code",
   "execution_count": 34,
   "id": "a3da55bf-bd8f-44a3-9c5a-ca85d3d71415",
   "metadata": {
    "tags": []
   },
   "outputs": [
    {
     "name": "stdout",
     "output_type": "stream",
     "text": [
      "R-squared Score: 0.6989024863672151\n"
     ]
    }
   ],
   "source": [
    "from sklearn.metrics import r2_score\n",
    "r2 = r2_score(y_test_transformed, results_transformed)\n",
    "print(\"R-squared Score:\", r2)"
   ]
  },
  {
   "cell_type": "code",
   "execution_count": 39,
   "id": "11314e7c-508b-4882-9949-7bda85385126",
   "metadata": {
    "tags": []
   },
   "outputs": [
    {
     "name": "stdout",
     "output_type": "stream",
     "text": [
      "Median absolute error: 8.284311677126908\n"
     ]
    }
   ],
   "source": [
    "from sklearn.metrics import median_absolute_error\n",
    "med_ae = median_absolute_error(y_test_transformed, results_transformed)\n",
    "print(\"Median absolute error:\", med_ae)"
   ]
  },
  {
   "cell_type": "code",
   "execution_count": null,
   "id": "4db9ce39-eefb-4009-af60-52bc08ef574b",
   "metadata": {},
   "outputs": [],
   "source": [
    "# OLS Regression"
   ]
  },
  {
   "cell_type": "code",
   "execution_count": 63,
   "id": "505bfe6f-b69e-46d4-8aa2-e206821de41a",
   "metadata": {
    "tags": []
   },
   "outputs": [],
   "source": [
    "import statsmodels.api as sm\n",
    "X_train_with_const = sm.add_constant(X_train)\n",
    "X_test_with_const = sm.add_constant(X_test)\n",
    "\n",
    "model_ols = sm.OLS(y_train, X_train_with_const).fit()"
   ]
  },
  {
   "cell_type": "code",
   "execution_count": 65,
   "id": "2964499d-e73d-4e9f-9f7b-e1170406326b",
   "metadata": {
    "tags": []
   },
   "outputs": [
    {
     "name": "stdout",
     "output_type": "stream",
     "text": [
      "0.02770766089796624\n"
     ]
    }
   ],
   "source": [
    "results = model_ols.predict(X_test_with_const)\n",
    "print(mean_squared_error(y_test, results))"
   ]
  },
  {
   "cell_type": "code",
   "execution_count": 66,
   "id": "d5744d25-da5e-49d8-ae60-9ac646758b66",
   "metadata": {
    "tags": []
   },
   "outputs": [
    {
     "name": "stdout",
     "output_type": "stream",
     "text": [
      "[ 3. 74. 62. 69. 69. 64. 49. 58. 51. 79. 39. 16. 43.  5. 68.  8. 74. 65.\n",
      " 18. 58. 34. 53. 59. 27. 86. 36. 79. 66. 48. 57. 50. 58. 17. 56. 72. 55.\n",
      " 78. 16. 60. 69. 73. 23. 58.  3. 68. 41. 24. 67. 25. 53. 25. 69. 39. 57.\n",
      " 56. 58. 69. 41.  3. 55. 62. 69. 71. 50. 60.  6. 69. 27. 37. 25. 42.  3.\n",
      "  5. 38. 17. 78.  6. 28. 77. 23. 39. 72. 56. 37. 39. 65. 60. 19. 75. 25.\n",
      " 39. 61. 73. 53. 43. 44. 56. 56. 39. 40. 76.  7. 73. 64. 50. 63. 58. 60.\n",
      " 72. 18. 63. 23. 75. 78. 70. 27. 67. 74. 67. 38.]\n",
      "Mean Squared Error: 190.87807592608942\n"
     ]
    }
   ],
   "source": [
    "X_test_transformed = std_scaler.inverse_transform(X_test)\n",
    "y_test_transformed = mm_scaler.inverse_transform(y_test.reshape(-1, 1)).ravel()\n",
    "print(y_test_transformed)\n",
    "results_transformed = mm_scaler.inverse_transform(results.reshape(-1, 1)).ravel()\n",
    "mse = mean_squared_error(y_test_transformed, results_transformed)\n",
    "print(\"Mean Squared Error:\", mse)"
   ]
  },
  {
   "cell_type": "code",
   "execution_count": 67,
   "id": "806f26b7-f0bb-428f-ab17-5e875d705e2a",
   "metadata": {
    "tags": []
   },
   "outputs": [
    {
     "data": {
      "image/png": "[encoded data removed]",
      "text/plain": [
       "<Figure size 800x600 with 1 Axes>"
      ]
     },
     "metadata": {},
     "output_type": "display_data"
    }
   ],
   "source": [
    "plt.figure(figsize=(8, 6))\n",
    "plt.scatter(y_test_transformed, results_transformed, color='blue', alpha=0.5)\n",
    "plt.plot([y_test_transformed.min(), y_test_transformed.max()], [y_test_transformed.min(), y_test_transformed.max()], 'k--', lw=2)\n",
    "plt.xlabel('Actual')\n",
    "plt.ylabel('Predicted')\n",
    "plt.title('Actual vs Predicted')\n",
    "plt.show()"
   ]
  },
  {
   "cell_type": "code",
   "execution_count": 68,
   "id": "935ef5aa-5130-4bda-8862-0d1964e80820",
   "metadata": {
    "tags": []
   },
   "outputs": [
    {
     "name": "stdout",
     "output_type": "stream",
     "text": [
      "R-squared Score: 0.6058633593712717\n"
     ]
    }
   ],
   "source": [
    "r2 = r2_score(y_test_transformed, results_transformed)\n",
    "print(\"R-squared Score:\", r2)"
   ]
  },
  {
   "cell_type": "code",
   "execution_count": 70,
   "id": "22bfca14-b25a-4a26-a58a-5a7fa4d24f59",
   "metadata": {
    "tags": []
   },
   "outputs": [
    {
     "name": "stdout",
     "output_type": "stream",
     "text": [
      "Median absolute error: 8.462643518475865\n"
     ]
    }
   ],
   "source": [
    "med_ae = median_absolute_error(y_test_transformed, results_transformed)\n",
    "print(\"Median absolute error:\", med_ae)"
   ]
  },
  {
   "cell_type": "code",
   "execution_count": null,
   "id": "2b6b77d5-bb59-4556-b34e-0c15ae5a2192",
   "metadata": {},
   "outputs": [],
   "source": [
    "# MLP Regressor"
   ]
  },
  {
   "cell_type": "code",
   "execution_count": 96,
   "id": "1c3010ad-b1b8-4082-a83a-26672d301ad0",
   "metadata": {
    "tags": []
   },
   "outputs": [
    {
     "data": {
      "text/html": [
       "<style>#sk-container-id-10 {color: black;}#sk-container-id-10 pre{padding: 0;}#sk-container-id-10 div.sk-toggleable {background-color: white;}#sk-container-id-10 label.sk-toggleable__label {cursor: pointer;display: block;width: 100%;margin-bottom: 0;padding: 0.3em;box-sizing: border-box;text-align: center;}#sk-container-id-10 label.sk-toggleable__label-arrow:before {content: \"▸\";float: left;margin-right: 0.25em;color: #696969;}#sk-container-id-10 label.sk-toggleable__label-arrow:hover:before {color: black;}#sk-container-id-10 div.sk-estimator:hover label.sk-toggleable__label-arrow:before {color: black;}#sk-container-id-10 div.sk-toggleable__content {max-height: 0;max-width: 0;overflow: hidden;text-align: left;background-color: #f0f8ff;}#sk-container-id-10 div.sk-toggleable__content pre {margin: 0.2em;color: black;border-radius: 0.25em;background-color: #f0f8ff;}#sk-container-id-10 input.sk-toggleable__control:checked~div.sk-toggleable__content {max-height: 200px;max-width: 100%;overflow: auto;}#sk-container-id-10 input.sk-toggleable__control:checked~label.sk-toggleable__label-arrow:before {content: \"▾\";}#sk-container-id-10 div.sk-estimator input.sk-toggleable__control:checked~label.sk-toggleable__label {background-color: #d4ebff;}#sk-container-id-10 div.sk-label input.sk-toggleable__control:checked~label.sk-toggleable__label {background-color: #d4ebff;}#sk-container-id-10 input.sk-hidden--visually {border: 0;clip: rect(1px 1px 1px 1px);clip: rect(1px, 1px, 1px, 1px);height: 1px;margin: -1px;overflow: hidden;padding: 0;position: absolute;width: 1px;}#sk-container-id-10 div.sk-estimator {font-family: monospace;background-color: #f0f8ff;border: 1px dotted black;border-radius: 0.25em;box-sizing: border-box;margin-bottom: 0.5em;}#sk-container-id-10 div.sk-estimator:hover {background-color: #d4ebff;}#sk-container-id-10 div.sk-parallel-item::after {content: \"\";width: 100%;border-bottom: 1px solid gray;flex-grow: 1;}#sk-container-id-10 div.sk-label:hover label.sk-toggleable__label {background-color: #d4ebff;}#sk-container-id-10 div.sk-serial::before {content: \"\";position: absolute;border-left: 1px solid gray;box-sizing: border-box;top: 0;bottom: 0;left: 50%;z-index: 0;}#sk-container-id-10 div.sk-serial {display: flex;flex-direction: column;align-items: center;background-color: white;padding-right: 0.2em;padding-left: 0.2em;position: relative;}#sk-container-id-10 div.sk-item {position: relative;z-index: 1;}#sk-container-id-10 div.sk-parallel {display: flex;align-items: stretch;justify-content: center;background-color: white;position: relative;}#sk-container-id-10 div.sk-item::before, #sk-container-id-10 div.sk-parallel-item::before {content: \"\";position: absolute;border-left: 1px solid gray;box-sizing: border-box;top: 0;bottom: 0;left: 50%;z-index: -1;}#sk-container-id-10 div.sk-parallel-item {display: flex;flex-direction: column;z-index: 1;position: relative;background-color: white;}#sk-container-id-10 div.sk-parallel-item:first-child::after {align-self: flex-end;width: 50%;}#sk-container-id-10 div.sk-parallel-item:last-child::after {align-self: flex-start;width: 50%;}#sk-container-id-10 div.sk-parallel-item:only-child::after {width: 0;}#sk-container-id-10 div.sk-dashed-wrapped {border: 1px dashed gray;margin: 0 0.4em 0.5em 0.4em;box-sizing: border-box;padding-bottom: 0.4em;background-color: white;}#sk-container-id-10 div.sk-label label {font-family: monospace;font-weight: bold;display: inline-block;line-height: 1.2em;}#sk-container-id-10 div.sk-label-container {text-align: center;}#sk-container-id-10 div.sk-container {/* jupyter's `normalize.less` sets `[hidden] { display: none; }` but bootstrap.min.css set `[hidden] { display: none !important; }` so we also need the `!important` here to be able to override the default hidden behavior on the sphinx rendered scikit-learn.org. See: https://github.com/scikit-learn/scikit-learn/issues/21755 */display: inline-block !important;position: relative;}#sk-container-id-10 div.sk-text-repr-fallback {display: none;}</style><div id=\"sk-container-id-10\" class=\"sk-top-container\"><div class=\"sk-text-repr-fallback\"><pre>MLPRegressor(hidden_layer_sizes=(100, 50, 100))</pre><b>In a Jupyter environment, please rerun this cell to show the HTML representation or trust the notebook. <br />On GitHub, the HTML representation is unable to render, please try loading this page with nbviewer.org.</b></div><div class=\"sk-container\" hidden><div class=\"sk-item\"><div class=\"sk-estimator sk-toggleable\"><input class=\"sk-toggleable__control sk-hidden--visually\" id=\"sk-estimator-id-10\" type=\"checkbox\" checked><label for=\"sk-estimator-id-10\" class=\"sk-toggleable__label sk-toggleable__label-arrow\">MLPRegressor</label><div class=\"sk-toggleable__content\"><pre>MLPRegressor(hidden_layer_sizes=(100, 50, 100))</pre></div></div></div></div></div>"
      ],
      "text/plain": [
       "MLPRegressor(hidden_layer_sizes=(100, 50, 100))"
      ]
     },
     "execution_count": 96,
     "metadata": {},
     "output_type": "execute_result"
    }
   ],
   "source": [
    "from sklearn.neural_network import MLPRegressor\n",
    "mlp_regressor = MLPRegressor(hidden_layer_sizes=(100, 50, 100), activation='relu', solver='adam')\n",
    "y_train = y_train.ravel()\n",
    "y_test = y_test.ravel()\n",
    "mlp_regressor.fit(X_train, y_train)"
   ]
  },
  {
   "cell_type": "code",
   "execution_count": 97,
   "id": "02da7459-b5b5-4d98-bf1e-a04464afbdd8",
   "metadata": {
    "tags": []
   },
   "outputs": [
    {
     "name": "stdout",
     "output_type": "stream",
     "text": [
      "0.03278603678752238\n"
     ]
    }
   ],
   "source": [
    "results = mlp_regressor.predict(X_test)\n",
    "print(mean_squared_error(y_test, results))"
   ]
  },
  {
   "cell_type": "code",
   "execution_count": 98,
   "id": "c06f6be8-f210-4cbc-9259-e1a721eac294",
   "metadata": {
    "tags": []
   },
   "outputs": [
    {
     "name": "stdout",
     "output_type": "stream",
     "text": [
      "[ 3. 74. 62. 69. 69. 64. 49. 58. 51. 79. 39. 16. 43.  5. 68.  8. 74. 65.\n",
      " 18. 58. 34. 53. 59. 27. 86. 36. 79. 66. 48. 57. 50. 58. 17. 56. 72. 55.\n",
      " 78. 16. 60. 69. 73. 23. 58.  3. 68. 41. 24. 67. 25. 53. 25. 69. 39. 57.\n",
      " 56. 58. 69. 41.  3. 55. 62. 69. 71. 50. 60.  6. 69. 27. 37. 25. 42.  3.\n",
      "  5. 38. 17. 78.  6. 28. 77. 23. 39. 72. 56. 37. 39. 65. 60. 19. 75. 25.\n",
      " 39. 61. 73. 53. 43. 44. 56. 56. 39. 40. 76.  7. 73. 64. 50. 63. 58. 60.\n",
      " 72. 18. 63. 23. 75. 78. 70. 27. 67. 74. 67. 38.]\n",
      "Mean Squared Error: 225.86300742924172\n"
     ]
    }
   ],
   "source": [
    "X_test_transformed = std_scaler.inverse_transform(X_test)\n",
    "y_test_transformed = mm_scaler.inverse_transform(y_test.reshape(-1, 1)).ravel()\n",
    "print(y_test_transformed)\n",
    "results_transformed = mm_scaler.inverse_transform(results.reshape(-1, 1)).ravel()\n",
    "mse = mean_squared_error(y_test_transformed, results_transformed)\n",
    "print(\"Mean Squared Error:\", mse)"
   ]
  },
  {
   "cell_type": "code",
   "execution_count": 99,
   "id": "f2ba4175-ffd3-4b27-9d25-fcda8b3a3666",
   "metadata": {
    "tags": []
   },
   "outputs": [
    {
     "data": {
      "image/png": "[encoded data removed]",
      "text/plain": [
       "<Figure size 800x600 with 1 Axes>"
      ]
     },
     "metadata": {},
     "output_type": "display_data"
    }
   ],
   "source": [
    "plt.figure(figsize=(8, 6))\n",
    "plt.scatter(y_test_transformed, results_transformed, color='blue', alpha=0.5)\n",
    "plt.plot([y_test_transformed.min(), y_test_transformed.max()], [y_test_transformed.min(), y_test_transformed.max()], 'k--', lw=2)\n",
    "plt.xlabel('Actual')\n",
    "plt.ylabel('Predicted')\n",
    "plt.title('Actual vs Predicted')\n",
    "plt.show()"
   ]
  },
  {
   "cell_type": "code",
   "execution_count": 100,
   "id": "2263a350-8a25-4a6c-9c23-49250037aba4",
   "metadata": {
    "tags": []
   },
   "outputs": [
    {
     "name": "stdout",
     "output_type": "stream",
     "text": [
      "R-squared Score: 0.533624348639532\n"
     ]
    }
   ],
   "source": [
    "r2 = r2_score(y_test_transformed, results_transformed)\n",
    "print(\"R-squared Score:\", r2)"
   ]
  },
  {
   "cell_type": "code",
   "execution_count": 101,
   "id": "1dd620f8-294e-4eda-9904-26bac4b97244",
   "metadata": {
    "tags": []
   },
   "outputs": [
    {
     "name": "stdout",
     "output_type": "stream",
     "text": [
      "Median absolute error: 9.443879351581437\n"
     ]
    }
   ],
   "source": [
    "med_ae = median_absolute_error(y_test_transformed, results_transformed)\n",
    "print(\"Median absolute error:\", med_ae)"
   ]
  }
 ],
 "metadata": {
  "kernelspec": {
   "display_name": "Python 3 (ipykernel)",
   "language": "python",
   "name": "python3"
  },
  "language_info": {
   "codemirror_mode": {
    "name": "ipython",
    "version": 3
   },
   "file_extension": ".py",
   "mimetype": "text/x-python",
   "name": "python",
   "nbconvert_exporter": "python",
   "pygments_lexer": "ipython3",
   "version": "3.11.4"
  }
 },
 "nbformat": 4,
 "nbformat_minor": 5
}

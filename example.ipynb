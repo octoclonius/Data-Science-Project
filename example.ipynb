{
 "cells": [
  {
   "cell_type": "code",
   "execution_count": null,
   "metadata": {
    "tags": []
   },
   "outputs": [],
   "source": [
    "import pandas as pd\n",
    "pd.set_option('display.max_rows', None)\n",
    "pd.set_option('display.max_columns', None)\n",
    "pd.set_option('display.max_colwidth', None)\n",
    "import numpy as np\n",
    "import sqlite3"
   ]
  },
  {
   "cell_type": "code",
   "execution_count": null,
   "metadata": {
    "tags": []
   },
   "outputs": [],
   "source": [
    "PATH_DB = './spotify.sqlite'\n",
    "PATH_CSV = './top_3827348_songs.csv'\n",
    "SAMPLE_SIZE = 100000\n",
    "STR_ENCODING = 'utf-8'"
   ]
  },
  {
   "cell_type": "code",
   "execution_count": null,
   "metadata": {
    "tags": []
   },
   "outputs": [],
   "source": [
    "# Open the database in read-only mode\n",
    "con = sqlite3.connect(f'file:{PATH_DB}?mode=ro', uri=True)\n",
    "# Get database preview\n",
    "df_db = pd.read_sql_query('''\n",
    "    SELECT\n",
    "        tbl_name, sql\n",
    "    FROM\n",
    "        sqlite_master\n",
    "    WHERE\n",
    "        type = 'table'\n",
    "''', con)\n",
    "# Close the database connection\n",
    "con.close()\n",
    "# Preview database\n",
    "df_db"
   ]
  },
  {
   "cell_type": "code",
   "execution_count": null,
   "metadata": {},
   "outputs": [],
   "source": [
    "def to_str(x):\n",
    "    return x[2:-1]\n",
    "\n",
    "def to_list(x):\n",
    "    return [y for y in to_str(x).split(',')]\n",
    "\n",
    "# Load DataFrame from CSV\n",
    "df_tracks = pd.read_csv(\n",
    "    PATH_CSV,\n",
    "    nrows=SAMPLE_SIZE,\n",
    "    converters={\n",
    "        'id': to_str, 'name': to_str, 'duration': np.int32, 'explicit': np.int32,\n",
    "        'popularity': np.int32, 'loudness': np.float32, 'tempo': np.float32,\n",
    "        'time_signature': np.int32, 'key': np.int32, 'mode': np.int32, 'acousticness': np.float32,\n",
    "        'danceability': np.float32, 'energy': np.float32, 'instrumentalness': np.float32,\n",
    "        'liveness': np.float32, 'speechiness': np.float32, 'valence': np.float32,\n",
    "        'artist_ids': to_list, 'artist_names': to_list, 'artist_followers': to_list,\n",
    "        'artist_popularities': to_list, 'album_ids': to_list, 'album_names': to_list,\n",
    "        'album_types': to_list, 'album_release_dates': to_list, 'album_popularities': to_list,\n",
    "        'genres': to_list\n",
    "    }\n",
    ")\n",
    "# Preview DataFrame\n",
    "df_tracks.head()"
   ]
  }
 ],
 "metadata": {
  "kernelspec": {
   "display_name": "Python 3 (ipykernel)",
   "language": "python",
   "name": "python3"
  },
  "language_info": {
   "codemirror_mode": {
    "name": "ipython",
    "version": 3
   },
   "file_extension": ".py",
   "mimetype": "text/x-python",
   "name": "python",
   "nbconvert_exporter": "python",
   "pygments_lexer": "ipython3",
   "version": "3.12.2"
  }
 },
 "nbformat": 4,
 "nbformat_minor": 4
}

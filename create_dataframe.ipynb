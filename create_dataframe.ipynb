{
 "cells": [
  {
   "cell_type": "code",
   "execution_count": null,
   "metadata": {
    "tags": []
   },
   "outputs": [],
   "source": [
    "import sqlite3\n",
    "import pandas as pd"
   ]
  },
  {
   "cell_type": "code",
   "execution_count": null,
   "metadata": {},
   "outputs": [],
   "source": [
    "# Settings\n",
    "SAMPLE_SIZE = 200000\n",
    "PATH_DB = './spotify.sqlite'\n",
    "pd.set_option('display.max_rows', None)\n",
    "pd.set_option('display.max_columns', None)\n",
    "pd.set_option('display.max_colwidth', None)"
   ]
  },
  {
   "cell_type": "code",
   "execution_count": null,
   "metadata": {
    "tags": []
   },
   "outputs": [],
   "source": [
    "con = sqlite3.connect(f'file:{PATH_DB}?mode=ro', uri=True)\n",
    "df_tables = pd.read_sql_query('''\n",
    "    SELECT\n",
    "        tbl_name, sql\n",
    "    FROM\n",
    "        sqlite_master\n",
    "    WHERE\n",
    "        type = 'table'\n",
    "''', con)\n",
    "con.close()\n",
    "# Uncomment the line below to see all the tables and their columns\n",
    "#df_tables"
   ]
  },
  {
   "cell_type": "code",
   "execution_count": null,
   "metadata": {
    "tags": []
   },
   "outputs": [],
   "source": [
    "con = sqlite3.connect(f'file:{PATH_DB}?mode=ro', uri=True)\n",
    "con.text_factory = lambda x: str(x, 'latin1')\n",
    "df = pd.read_sql_query(f'''\n",
    "    SELECT\n",
    "        t.id,\n",
    "        t.name,\n",
    "        t.duration,\n",
    "        t.explicit,\n",
    "        t.popularity,\n",
    "        af.analysis_url,\n",
    "        af.loudness,\n",
    "        af.tempo,\n",
    "        af.time_signature,\n",
    "        af.key,\n",
    "        af.mode,\n",
    "        af.acousticness,\n",
    "        af.danceability,\n",
    "        af.energy,\n",
    "        af.instrumentalness,\n",
    "        af.liveness,\n",
    "        af.speechiness,\n",
    "        af.valence,\n",
    "        GROUP_CONCAT(DISTINCT art.id) AS artist_ids,\n",
    "        GROUP_CONCAT(DISTINCT art.name) AS artist_names,\n",
    "        GROUP_CONCAT(DISTINCT art.followers) AS artist_followers,\n",
    "        GROUP_CONCAT(DISTINCT art.popularity) AS artist_popularity,\n",
    "        GROUP_CONCAT(DISTINCT alb.id) AS album_ids,\n",
    "        GROUP_CONCAT(DISTINCT alb.name) AS album_names,\n",
    "        GROUP_CONCAT(DISTINCT alb.album_type) AS album_types,\n",
    "        GROUP_CONCAT(DISTINCT alb.release_date) AS album_release_dates,\n",
    "        GROUP_CONCAT(DISTINCT alb.popularity) AS album_popularities,\n",
    "        GROUP_CONCAT(DISTINCT g.id) AS genres\n",
    "    FROM\n",
    "        (\n",
    "            SELECT\n",
    "                *\n",
    "            FROM\n",
    "                tracks_indexed\n",
    "            ORDER BY\n",
    "                popularity DESC\n",
    "            LIMIT\n",
    "                {SAMPLE_SIZE}\n",
    "        ) AS t\n",
    "    INNER JOIN\n",
    "        audio_features_indexed AS af ON t.id = af.id\n",
    "    LEFT JOIN\n",
    "        r_track_artist AS rta ON t.id = rta.track_id\n",
    "    LEFT JOIN\n",
    "        artists_indexed AS art ON rta.artist_id = art.id\n",
    "    LEFT JOIN\n",
    "        r_albums_tracks AS rat ON t.id = rat.track_id\n",
    "    LEFT JOIN\n",
    "        albums_indexed AS alb ON rat.album_id = alb.id\n",
    "    LEFT JOIN\n",
    "        r_artist_genre AS rag ON rag.artist_id = art.id\n",
    "    LEFT JOIN\n",
    "        genres AS g ON rag.genre_id = g.id\n",
    "    GROUP BY\n",
    "        t.id\n",
    "''', con)\n",
    "con.close()\n",
    "df.head()"
   ]
  },
  {
   "cell_type": "code",
   "execution_count": null,
   "metadata": {},
   "outputs": [],
   "source": [
    "df.to_csv(f'top_{SAMPLE_SIZE}_songs.csv', index=False)"
   ]
  }
 ],
 "metadata": {
  "kernelspec": {
   "display_name": "Python 3 (ipykernel)",
   "language": "python",
   "name": "python3"
  },
  "language_info": {
   "codemirror_mode": {
    "name": "ipython",
    "version": 3
   },
   "file_extension": ".py",
   "mimetype": "text/x-python",
   "name": "python",
   "nbconvert_exporter": "python",
   "pygments_lexer": "ipython3",
   "version": "3.12.2"
  }
 },
 "nbformat": 4,
 "nbformat_minor": 4
}

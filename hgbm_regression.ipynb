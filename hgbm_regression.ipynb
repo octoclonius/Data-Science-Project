{
 "cells": [
  {
   "cell_type": "code",
   "execution_count": 25,
   "metadata": {
    "tags": []
   },
   "outputs": [],
   "source": [
    "import os\n",
    "import pandas as pd\n",
    "pd.set_option('display.max_rows', None)\n",
    "pd.set_option('display.max_columns', None)\n",
    "pd.set_option('display.max_colwidth', None)\n",
    "from sklearn.decomposition import PCA\n",
    "from sklearn.ensemble import HistGradientBoostingRegressor\n",
    "from sklearn.metrics import mean_squared_error\n",
    "from sklearn.model_selection import train_test_split\n",
    "from sklearn.preprocessing import MinMaxScaler, StandardScaler"
   ]
  },
  {
   "cell_type": "code",
   "execution_count": 26,
   "metadata": {
    "tags": []
   },
   "outputs": [],
   "source": [
    "PATH_CSV = './top_3827348_songs.csv'\n",
    "PATH_CSV_CLEAN = './clean_top_3827348_songs.csv'\n",
    "SAMPLE_SIZE = None\n",
    "SEED = 42\n",
    "TRAIN_TEST_SPLIT = 0.75"
   ]
  },
  {
   "cell_type": "code",
   "execution_count": 27,
   "metadata": {
    "tags": []
   },
   "outputs": [
    {
     "data": {
      "text/html": [
       "<div>\n",
       "<style scoped>\n",
       "    .dataframe tbody tr th:only-of-type {\n",
       "        vertical-align: middle;\n",
       "    }\n",
       "\n",
       "    .dataframe tbody tr th {\n",
       "        vertical-align: top;\n",
       "    }\n",
       "\n",
       "    .dataframe thead th {\n",
       "        text-align: right;\n",
       "    }\n",
       "</style>\n",
       "<table border=\"1\" class=\"dataframe\">\n",
       "  <thead>\n",
       "    <tr style=\"text-align: right;\">\n",
       "      <th></th>\n",
       "      <th>id</th>\n",
       "      <th>name</th>\n",
       "      <th>duration</th>\n",
       "      <th>explicit</th>\n",
       "      <th>popularity</th>\n",
       "      <th>loudness</th>\n",
       "      <th>tempo</th>\n",
       "      <th>time_signature</th>\n",
       "      <th>key</th>\n",
       "      <th>mode</th>\n",
       "      <th>acousticness</th>\n",
       "      <th>danceability</th>\n",
       "      <th>energy</th>\n",
       "      <th>instrumentalness</th>\n",
       "      <th>liveness</th>\n",
       "      <th>speechiness</th>\n",
       "      <th>valence</th>\n",
       "    </tr>\n",
       "  </thead>\n",
       "  <tbody>\n",
       "    <tr>\n",
       "      <th>0</th>\n",
       "      <td>0000gBWfr2zIFzE5tDzxca</td>\n",
       "      <td>Sella Stercoraria</td>\n",
       "      <td>507987</td>\n",
       "      <td>0</td>\n",
       "      <td>3</td>\n",
       "      <td>-8.065</td>\n",
       "      <td>80.509</td>\n",
       "      <td>4</td>\n",
       "      <td>9</td>\n",
       "      <td>0</td>\n",
       "      <td>0.000013</td>\n",
       "      <td>0.322</td>\n",
       "      <td>0.670</td>\n",
       "      <td>0.559000</td>\n",
       "      <td>0.3510</td>\n",
       "      <td>0.0449</td>\n",
       "      <td>0.176</td>\n",
       "    </tr>\n",
       "    <tr>\n",
       "      <th>1</th>\n",
       "      <td>0003Z98F6hUq7XxqSRM87H</td>\n",
       "      <td>\\xd0\\x9c\\xd0\\xb5\\xd0\\xbd\\xd1\\x8f \\xd0\\xb1\\xd0\\xbe\\xd0\\xbb\\xd1\\x8c\\xd1\\x88\\xd0\\xb5 \\xd1\\x82\\xd1\\x83\\xd1\\x82 \\xd0\\xbd\\xd0\\xb5\\xd1\\x82</td>\n",
       "      <td>241666</td>\n",
       "      <td>1</td>\n",
       "      <td>18</td>\n",
       "      <td>-5.408</td>\n",
       "      <td>138.076</td>\n",
       "      <td>4</td>\n",
       "      <td>1</td>\n",
       "      <td>1</td>\n",
       "      <td>0.086000</td>\n",
       "      <td>0.733</td>\n",
       "      <td>0.711</td>\n",
       "      <td>0.000000</td>\n",
       "      <td>0.4510</td>\n",
       "      <td>0.1580</td>\n",
       "      <td>0.346</td>\n",
       "    </tr>\n",
       "    <tr>\n",
       "      <th>2</th>\n",
       "      <td>0003q2V7hAiIYyzXV4sNyQ</td>\n",
       "      <td>Das wilde Pack, Teil 1: Das wilde Pack, Kapitel 5</td>\n",
       "      <td>200974</td>\n",
       "      <td>0</td>\n",
       "      <td>11</td>\n",
       "      <td>-14.880</td>\n",
       "      <td>79.250</td>\n",
       "      <td>3</td>\n",
       "      <td>0</td>\n",
       "      <td>1</td>\n",
       "      <td>0.500000</td>\n",
       "      <td>0.520</td>\n",
       "      <td>0.416</td>\n",
       "      <td>0.000000</td>\n",
       "      <td>0.5950</td>\n",
       "      <td>0.9540</td>\n",
       "      <td>0.538</td>\n",
       "    </tr>\n",
       "    <tr>\n",
       "      <th>3</th>\n",
       "      <td>000490QTLqT1ftnfwj3kGF</td>\n",
       "      <td>Disco Guitar</td>\n",
       "      <td>73195</td>\n",
       "      <td>0</td>\n",
       "      <td>2</td>\n",
       "      <td>-14.496</td>\n",
       "      <td>157.445</td>\n",
       "      <td>4</td>\n",
       "      <td>1</td>\n",
       "      <td>1</td>\n",
       "      <td>0.665000</td>\n",
       "      <td>0.742</td>\n",
       "      <td>0.661</td>\n",
       "      <td>0.000052</td>\n",
       "      <td>0.3070</td>\n",
       "      <td>0.1180</td>\n",
       "      <td>0.922</td>\n",
       "    </tr>\n",
       "    <tr>\n",
       "      <th>4</th>\n",
       "      <td>00053lDuLvN8Q8voGT3GCt</td>\n",
       "      <td>Soki</td>\n",
       "      <td>279880</td>\n",
       "      <td>0</td>\n",
       "      <td>1</td>\n",
       "      <td>-5.135</td>\n",
       "      <td>104.962</td>\n",
       "      <td>4</td>\n",
       "      <td>7</td>\n",
       "      <td>1</td>\n",
       "      <td>0.673000</td>\n",
       "      <td>0.622</td>\n",
       "      <td>0.734</td>\n",
       "      <td>0.000002</td>\n",
       "      <td>0.0954</td>\n",
       "      <td>0.0476</td>\n",
       "      <td>0.481</td>\n",
       "    </tr>\n",
       "  </tbody>\n",
       "</table>\n",
       "</div>"
      ],
      "text/plain": [
       "                       id  \\\n",
       "0  0000gBWfr2zIFzE5tDzxca   \n",
       "1  0003Z98F6hUq7XxqSRM87H   \n",
       "2  0003q2V7hAiIYyzXV4sNyQ   \n",
       "3  000490QTLqT1ftnfwj3kGF   \n",
       "4  00053lDuLvN8Q8voGT3GCt   \n",
       "\n",
       "                                                                                                                                  name  \\\n",
       "0                                                                                                                    Sella Stercoraria   \n",
       "1  \\xd0\\x9c\\xd0\\xb5\\xd0\\xbd\\xd1\\x8f \\xd0\\xb1\\xd0\\xbe\\xd0\\xbb\\xd1\\x8c\\xd1\\x88\\xd0\\xb5 \\xd1\\x82\\xd1\\x83\\xd1\\x82 \\xd0\\xbd\\xd0\\xb5\\xd1\\x82   \n",
       "2                                                                                    Das wilde Pack, Teil 1: Das wilde Pack, Kapitel 5   \n",
       "3                                                                                                                         Disco Guitar   \n",
       "4                                                                                                                                 Soki   \n",
       "\n",
       "   duration  explicit  popularity  loudness    tempo  time_signature  key  \\\n",
       "0    507987         0           3    -8.065   80.509               4    9   \n",
       "1    241666         1          18    -5.408  138.076               4    1   \n",
       "2    200974         0          11   -14.880   79.250               3    0   \n",
       "3     73195         0           2   -14.496  157.445               4    1   \n",
       "4    279880         0           1    -5.135  104.962               4    7   \n",
       "\n",
       "   mode  acousticness  danceability  energy  instrumentalness  liveness  \\\n",
       "0     0      0.000013         0.322   0.670          0.559000    0.3510   \n",
       "1     1      0.086000         0.733   0.711          0.000000    0.4510   \n",
       "2     1      0.500000         0.520   0.416          0.000000    0.5950   \n",
       "3     1      0.665000         0.742   0.661          0.000052    0.3070   \n",
       "4     1      0.673000         0.622   0.734          0.000002    0.0954   \n",
       "\n",
       "   speechiness  valence  \n",
       "0       0.0449    0.176  \n",
       "1       0.1580    0.346  \n",
       "2       0.9540    0.538  \n",
       "3       0.1180    0.922  \n",
       "4       0.0476    0.481  "
      ]
     },
     "execution_count": 27,
     "metadata": {},
     "output_type": "execute_result"
    }
   ],
   "source": [
    "def to_str(x):\n",
    "    return x[2:-1]\n",
    "\n",
    "def to_list(x):\n",
    "    return [y for y in to_str(x).split(',')]\n",
    "\n",
    "if os.path.exists(PATH_CSV_CLEAN):\n",
    "    df_complete = pd.read_csv(PATH_CSV_CLEAN)\n",
    "else:\n",
    "    df_complete = pd.read_csv(\n",
    "        PATH_CSV,\n",
    "        usecols=[\n",
    "            'id', 'name', 'duration', 'explicit', 'popularity', 'loudness', 'tempo',\n",
    "            'time_signature', 'key', 'mode', 'acousticness', 'danceability',\n",
    "            'energy', 'instrumentalness', 'liveness', 'speechiness', 'valence'\n",
    "        ],\n",
    "        converters={\n",
    "            'id': to_str, 'name': to_str, 'duration': np.int32, 'explicit': np.int32,\n",
    "            'popularity': np.int32, 'loudness': np.float32, 'tempo': np.float32,\n",
    "            'time_signature': np.int32, 'key': np.int32, 'mode': np.int32, 'acousticness': np.float32,\n",
    "            'danceability': np.float32, 'energy': np.float32, 'instrumentalness': np.float32,\n",
    "            'liveness': np.float32, 'speechiness': np.float32, 'valence': np.float32\n",
    "        }\n",
    "    )\n",
    "    df_complete.to_csv(PATH_CSV_CLEAN)\n",
    "\n",
    "if 'Unnamed: 0' in df_complete.columns:\n",
    "    df_complete = df_complete.drop(columns='Unnamed: 0')\n",
    "df_complete.head()"
   ]
  },
  {
   "cell_type": "code",
   "execution_count": 40,
   "metadata": {
    "tags": []
   },
   "outputs": [],
   "source": [
    "if SAMPLE_SIZE is not None:\n",
    "    df = df_complete.sample(n=SAMPLE_SIZE, random_state=SEED).copy()\n",
    "else:\n",
    "    df = df_complete.copy()\n",
    "df = df.set_index('id')\n",
    "df.head()\n",
    "df = df.sort_values(by='popularity', ascending=False)\n",
    "df = df.head(10000)"
   ]
  },
  {
   "cell_type": "code",
   "execution_count": 44,
   "metadata": {
    "tags": []
   },
   "outputs": [],
   "source": [
    "df_data = df.drop(columns=['popularity', 'name']).copy()\n",
    "df_labels = df[['popularity']].copy()\n",
    "X_train, X_test, y_train, y_test = train_test_split(df_data, df_labels, train_size=TRAIN_TEST_SPLIT, random_state=SEED)"
   ]
  },
  {
   "cell_type": "code",
   "execution_count": 45,
   "metadata": {
    "tags": []
   },
   "outputs": [],
   "source": [
    "std_scaler = StandardScaler()\n",
    "X_train = std_scaler.fit_transform(X_train)\n",
    "X_test = std_scaler.transform(X_test)"
   ]
  },
  {
   "cell_type": "code",
   "execution_count": 46,
   "metadata": {
    "tags": []
   },
   "outputs": [],
   "source": [
    "mm_scaler = MinMaxScaler()\n",
    "y_train = mm_scaler.fit_transform(y_train)\n",
    "y_test = mm_scaler.transform(y_test)"
   ]
  },
  {
   "cell_type": "code",
   "execution_count": 47,
   "metadata": {
    "tags": []
   },
   "outputs": [
    {
     "name": "stderr",
     "output_type": "stream",
     "text": [
      "/Users/cnorthrup/anaconda3/lib/python3.11/site-packages/sklearn/utils/validation.py:1184: DataConversionWarning: A column-vector y was passed when a 1d array was expected. Please change the shape of y to (n_samples, ), for example using ravel().\n",
      "  y = column_or_1d(y, warn=True)\n"
     ]
    },
    {
     "data": {
      "text/html": [
       "<style>#sk-container-id-3 {color: black;}#sk-container-id-3 pre{padding: 0;}#sk-container-id-3 div.sk-toggleable {background-color: white;}#sk-container-id-3 label.sk-toggleable__label {cursor: pointer;display: block;width: 100%;margin-bottom: 0;padding: 0.3em;box-sizing: border-box;text-align: center;}#sk-container-id-3 label.sk-toggleable__label-arrow:before {content: \"▸\";float: left;margin-right: 0.25em;color: #696969;}#sk-container-id-3 label.sk-toggleable__label-arrow:hover:before {color: black;}#sk-container-id-3 div.sk-estimator:hover label.sk-toggleable__label-arrow:before {color: black;}#sk-container-id-3 div.sk-toggleable__content {max-height: 0;max-width: 0;overflow: hidden;text-align: left;background-color: #f0f8ff;}#sk-container-id-3 div.sk-toggleable__content pre {margin: 0.2em;color: black;border-radius: 0.25em;background-color: #f0f8ff;}#sk-container-id-3 input.sk-toggleable__control:checked~div.sk-toggleable__content {max-height: 200px;max-width: 100%;overflow: auto;}#sk-container-id-3 input.sk-toggleable__control:checked~label.sk-toggleable__label-arrow:before {content: \"▾\";}#sk-container-id-3 div.sk-estimator input.sk-toggleable__control:checked~label.sk-toggleable__label {background-color: #d4ebff;}#sk-container-id-3 div.sk-label input.sk-toggleable__control:checked~label.sk-toggleable__label {background-color: #d4ebff;}#sk-container-id-3 input.sk-hidden--visually {border: 0;clip: rect(1px 1px 1px 1px);clip: rect(1px, 1px, 1px, 1px);height: 1px;margin: -1px;overflow: hidden;padding: 0;position: absolute;width: 1px;}#sk-container-id-3 div.sk-estimator {font-family: monospace;background-color: #f0f8ff;border: 1px dotted black;border-radius: 0.25em;box-sizing: border-box;margin-bottom: 0.5em;}#sk-container-id-3 div.sk-estimator:hover {background-color: #d4ebff;}#sk-container-id-3 div.sk-parallel-item::after {content: \"\";width: 100%;border-bottom: 1px solid gray;flex-grow: 1;}#sk-container-id-3 div.sk-label:hover label.sk-toggleable__label {background-color: #d4ebff;}#sk-container-id-3 div.sk-serial::before {content: \"\";position: absolute;border-left: 1px solid gray;box-sizing: border-box;top: 0;bottom: 0;left: 50%;z-index: 0;}#sk-container-id-3 div.sk-serial {display: flex;flex-direction: column;align-items: center;background-color: white;padding-right: 0.2em;padding-left: 0.2em;position: relative;}#sk-container-id-3 div.sk-item {position: relative;z-index: 1;}#sk-container-id-3 div.sk-parallel {display: flex;align-items: stretch;justify-content: center;background-color: white;position: relative;}#sk-container-id-3 div.sk-item::before, #sk-container-id-3 div.sk-parallel-item::before {content: \"\";position: absolute;border-left: 1px solid gray;box-sizing: border-box;top: 0;bottom: 0;left: 50%;z-index: -1;}#sk-container-id-3 div.sk-parallel-item {display: flex;flex-direction: column;z-index: 1;position: relative;background-color: white;}#sk-container-id-3 div.sk-parallel-item:first-child::after {align-self: flex-end;width: 50%;}#sk-container-id-3 div.sk-parallel-item:last-child::after {align-self: flex-start;width: 50%;}#sk-container-id-3 div.sk-parallel-item:only-child::after {width: 0;}#sk-container-id-3 div.sk-dashed-wrapped {border: 1px dashed gray;margin: 0 0.4em 0.5em 0.4em;box-sizing: border-box;padding-bottom: 0.4em;background-color: white;}#sk-container-id-3 div.sk-label label {font-family: monospace;font-weight: bold;display: inline-block;line-height: 1.2em;}#sk-container-id-3 div.sk-label-container {text-align: center;}#sk-container-id-3 div.sk-container {/* jupyter's `normalize.less` sets `[hidden] { display: none; }` but bootstrap.min.css set `[hidden] { display: none !important; }` so we also need the `!important` here to be able to override the default hidden behavior on the sphinx rendered scikit-learn.org. See: https://github.com/scikit-learn/scikit-learn/issues/21755 */display: inline-block !important;position: relative;}#sk-container-id-3 div.sk-text-repr-fallback {display: none;}</style><div id=\"sk-container-id-3\" class=\"sk-top-container\"><div class=\"sk-text-repr-fallback\"><pre>HistGradientBoostingRegressor(random_state=42)</pre><b>In a Jupyter environment, please rerun this cell to show the HTML representation or trust the notebook. <br />On GitHub, the HTML representation is unable to render, please try loading this page with nbviewer.org.</b></div><div class=\"sk-container\" hidden><div class=\"sk-item\"><div class=\"sk-estimator sk-toggleable\"><input class=\"sk-toggleable__control sk-hidden--visually\" id=\"sk-estimator-id-3\" type=\"checkbox\" checked><label for=\"sk-estimator-id-3\" class=\"sk-toggleable__label sk-toggleable__label-arrow\">HistGradientBoostingRegressor</label><div class=\"sk-toggleable__content\"><pre>HistGradientBoostingRegressor(random_state=42)</pre></div></div></div></div></div>"
      ],
      "text/plain": [
       "HistGradientBoostingRegressor(random_state=42)"
      ]
     },
     "execution_count": 47,
     "metadata": {},
     "output_type": "execute_result"
    }
   ],
   "source": [
    "hgbm = HistGradientBoostingRegressor(random_state=SEED)\n",
    "hgbm.fit(X_train, y_train)"
   ]
  },
  {
   "cell_type": "code",
   "execution_count": 48,
   "metadata": {
    "tags": []
   },
   "outputs": [
    {
     "name": "stdout",
     "output_type": "stream",
     "text": [
      "0.024207114586268355\n"
     ]
    }
   ],
   "source": [
    "results = hgbm.predict(X_test)\n",
    "print(mean_squared_error(y_test, results))"
   ]
  },
  {
   "cell_type": "code",
   "execution_count": 49,
   "metadata": {
    "tags": []
   },
   "outputs": [
    {
     "name": "stdout",
     "output_type": "stream",
     "text": [
      "[70. 72. 77. ... 69. 69. 89.]\n",
      "Mean Squared Error: 26.361547784446216\n"
     ]
    }
   ],
   "source": [
    "X_test_transformed = std_scaler.inverse_transform(X_test)\n",
    "y_test_transformed = mm_scaler.inverse_transform(y_test.reshape(-1, 1)).ravel()\n",
    "print(y_test_transformed)\n",
    "results_transformed = mm_scaler.inverse_transform(results.reshape(-1, 1)).ravel()\n",
    "mse = mean_squared_error(y_test_transformed, results_transformed)\n",
    "print(\"Mean Squared Error:\", mse)"
   ]
  },
  {
   "cell_type": "code",
   "execution_count": 51,
   "metadata": {
    "tags": []
   },
   "outputs": [
    {
     "data": {
      "image/png": "[encoded data removed]",
      "text/plain": [
       "<Figure size 800x600 with 1 Axes>"
      ]
     },
     "metadata": {},
     "output_type": "display_data"
    }
   ],
   "source": [
    "import matplotlib.pyplot as plt\n",
    "\n",
    "plt.figure(figsize=(8, 6))\n",
    "plt.scatter(y_test_transformed, results_transformed, color='blue', alpha=0.5)\n",
    "plt.plot([y_test_transformed.min(), y_test_transformed.max()], [y_test_transformed.min(), y_test_transformed.max()], 'k--', lw=2)\n",
    "plt.xlabel('Actual')\n",
    "plt.ylabel('Predicted')\n",
    "plt.title('Actual vs Predicted')\n",
    "plt.show()"
   ]
  },
  {
   "cell_type": "code",
   "execution_count": 54,
   "metadata": {
    "tags": []
   },
   "outputs": [
    {
     "name": "stdout",
     "output_type": "stream",
     "text": [
      "R-squared Score: -0.008626662411698405\n"
     ]
    }
   ],
   "source": [
    "from sklearn.metrics import r2_score\n",
    "r2 = r2_score(y_test_transformed, results_transformed)\n",
    "print(\"R-squared Score:\", r2)"
   ]
  }
 ],
 "metadata": {
  "kernelspec": {
   "display_name": "Python 3 (ipykernel)",
   "language": "python",
   "name": "python3"
  },
  "language_info": {
   "codemirror_mode": {
    "name": "ipython",
    "version": 3
   },
   "file_extension": ".py",
   "mimetype": "text/x-python",
   "name": "python",
   "nbconvert_exporter": "python",
   "pygments_lexer": "ipython3",
   "version": "3.11.4"
  }
 },
 "nbformat": 4,
 "nbformat_minor": 4
}

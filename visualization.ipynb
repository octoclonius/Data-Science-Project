{
 "cells": [
  {
   "cell_type": "code",
   "execution_count": null,
   "id": "56f7fd9d-23fa-447d-9569-8c1370a23bf5",
   "metadata": {
    "tags": []
   },
   "outputs": [],
   "source": [
    "import pandas as pd\n",
    "pd.set_option('display.max_rows', None)\n",
    "pd.set_option('display.max_columns', None)\n",
    "pd.set_option('display.max_colwidth', None)\n",
    "import numpy as np\n",
    "import matplotlib.pyplot as plt\n",
    "from sklearn.decomposition import PCA\n",
    "from sklearn.preprocessing import StandardScaler\n",
    "from sklearn.manifold import TSNE"
   ]
  },
  {
   "cell_type": "code",
   "execution_count": null,
   "id": "b24cef1a",
   "metadata": {},
   "outputs": [],
   "source": [
    "PATH_CSV = './top_3827348_songs.csv'\n",
    "SAMPLE_SIZE = 2500\n",
    "SEED = 42"
   ]
  },
  {
   "cell_type": "code",
   "execution_count": null,
   "id": "7803f852-f466-47fc-97e6-fca2f82d3476",
   "metadata": {
    "tags": []
   },
   "outputs": [],
   "source": [
    "def to_str(x):\n",
    "    return x[2:-1]\n",
    "\n",
    "def to_list(x):\n",
    "    return [y for y in to_str(x).split(',')]\n",
    "\n",
    "df = pd.read_csv(\n",
    "    PATH_CSV,\n",
    "    nrows=SAMPLE_SIZE,\n",
    "    usecols=[\n",
    "        'id', 'name', 'duration', 'explicit', 'popularity', 'loudness', 'tempo',\n",
    "        'time_signature', 'key', 'mode', 'acousticness', 'danceability',\n",
    "        'energy', 'instrumentalness', 'liveness', 'speechiness', 'valence'\n",
    "    ],\n",
    "    converters={\n",
    "        'id': to_str, 'name': to_str, 'duration': np.int32, 'explicit': bool,\n",
    "        'popularity': np.int32, 'loudness': np.float32, 'tempo': np.float32,\n",
    "        'time_signature': np.int32, 'key': np.int32, 'mode': bool, 'acousticness': np.float32,\n",
    "        'danceability': np.float32, 'energy': np.float32, 'instrumentalness': np.float32,\n",
    "        'liveness': np.float32, 'speechiness': np.float32, 'valence': np.float32\n",
    "    }\n",
    ")\n",
    "df.head()"
   ]
  },
  {
   "cell_type": "code",
   "execution_count": null,
   "id": "b791d8c9-aec6-497b-90c5-6cf695aaa98f",
   "metadata": {
    "tags": []
   },
   "outputs": [],
   "source": [
    "selected_cols = [\n",
    "    'acousticness', 'danceability', 'duration',\n",
    "    'energy', 'explicit', 'instrumentalness', 'key',\n",
    "    'liveness', 'loudness', 'mode', 'speechiness',\n",
    "    'tempo', 'time_signature', 'valence'\n",
    "]\n",
    "scaler = StandardScaler()\n",
    "X_selected = scaler.fit_transform(df[selected_cols])"
   ]
  },
  {
   "cell_type": "code",
   "execution_count": null,
   "id": "593b89ec-a4df-417e-b0f4-6cc5a0956626",
   "metadata": {
    "tags": []
   },
   "outputs": [],
   "source": [
    "pca_music = PCA(n_components=2, random_state=SEED).fit(X_selected)"
   ]
  },
  {
   "cell_type": "code",
   "execution_count": null,
   "id": "005a1f8c-029b-4184-9f45-4d7e4bc127d2",
   "metadata": {
    "tags": []
   },
   "outputs": [],
   "source": [
    "pca_music.explained_variance_"
   ]
  },
  {
   "cell_type": "code",
   "execution_count": null,
   "id": "51f25da3-aab3-40b2-b708-d55c0e6a6737",
   "metadata": {
    "tags": []
   },
   "outputs": [],
   "source": [
    "pca_music.explained_variance_ratio_"
   ]
  },
  {
   "cell_type": "code",
   "execution_count": null,
   "id": "a0ea1ccc-8cac-4cb7-b6a4-b9d51824d6d5",
   "metadata": {
    "tags": []
   },
   "outputs": [],
   "source": [
    "pd.DataFrame(\n",
    "    pca_music.components_.T.round(3),\n",
    "    index=selected_cols,\n",
    "    columns=['PCA1', 'PCA2']\n",
    ")"
   ]
  },
  {
   "cell_type": "code",
   "execution_count": null,
   "id": "1e880fab",
   "metadata": {},
   "outputs": [],
   "source": [
    "row_numbers = df.index[df['name'] == 'Dance (A$$)'].tolist()\n",
    "row_numbers"
   ]
  },
  {
   "cell_type": "code",
   "execution_count": null,
   "id": "bf712ed5-56b8-4069-a819-a2c25f27470c",
   "metadata": {
    "tags": []
   },
   "outputs": [],
   "source": [
    "X_music_pca = pca_music.transform(X_selected)\n",
    "\n",
    "fig, ax = plt.subplots(figsize=(10, 10))\n",
    "plt.scatter(X_music_pca[:, 0], X_music_pca[:, 1])\n",
    "for i in range(X_selected.shape[0]):\n",
    "    plt.text(\n",
    "        x=X_music_pca[i, 0] + 0.3,\n",
    "        y=X_music_pca[i, 1] + 0.3,\n",
    "        s=repr(df['name'][i]).replace('$', r'\\$')[1:-1],\n",
    "        fontdict=dict(color='red', size=5),\n",
    "        bbox=dict(facecolor='yellow', alpha=0.5)\n",
    "    )\n",
    "plt.show()"
   ]
  },
  {
   "cell_type": "code",
   "execution_count": null,
   "id": "34cae6af-1dc3-4e90-8c31-0be3d5882523",
   "metadata": {
    "tags": []
   },
   "outputs": [],
   "source": [
    "target_name = 'Dance (A$$)'\n",
    "row = df[df['name'] == target_name]\n",
    "row"
   ]
  },
  {
   "cell_type": "code",
   "execution_count": null,
   "id": "991ca39a-6643-474a-92ab-da1a6eb1ab09",
   "metadata": {
    "tags": []
   },
   "outputs": [],
   "source": [
    "tsne = TSNE(verbose=1, random_state=SEED)\n",
    "tsne_results = tsne.fit_transform(X_selected)\n",
    "fig, ax = plt.subplots(figsize=(10, 10))\n",
    "plt.scatter(tsne_results[:, 0], y=tsne_results[:, 1])\n",
    "for i in range(tsne_results.shape[0]):\n",
    "    plt.text(\n",
    "        x=tsne_results[i, 0] + 0.3,\n",
    "        y=tsne_results[i, 1] + 0.3,\n",
    "        s=repr(df['name'][i]).replace('$', r'\\$')[1:-1],\n",
    "        fontdict=dict(color='red', size=5),\n",
    "        bbox=dict(facecolor='yellow', alpha=0.5)\n",
    "    )\n",
    "plt.show()"
   ]
  }
 ],
 "metadata": {
  "kernelspec": {
   "display_name": "Python 3 (ipykernel)",
   "language": "python",
   "name": "python3"
  },
  "language_info": {
   "codemirror_mode": {
    "name": "ipython",
    "version": 3
   },
   "file_extension": ".py",
   "mimetype": "text/x-python",
   "name": "python",
   "nbconvert_exporter": "python",
   "pygments_lexer": "ipython3",
   "version": "3.12.2"
  }
 },
 "nbformat": 4,
 "nbformat_minor": 5
}

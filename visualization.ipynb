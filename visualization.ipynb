{
 "cells": [
  {
   "cell_type": "code",
   "execution_count": null,
   "id": "56f7fd9d-23fa-447d-9569-8c1370a23bf5",
   "metadata": {
    "tags": []
   },
   "outputs": [],
   "source": [
    "import pandas as pd\n",
    "from sklearn.decomposition import PCA\n",
    "from sklearn.preprocessing import StandardScaler\n",
    "import matplotlib.pyplot as plt\n",
    "from sklearn.manifold import TSNE"
   ]
  },
  {
   "cell_type": "code",
   "execution_count": null,
   "id": "b24cef1a",
   "metadata": {},
   "outputs": [],
   "source": [
    "# Settings\n",
    "SEED = 42\n",
    "SAMPLE_SIZE = 200\n",
    "PATH_CSV = './top_9824_songs.csv'\n",
    "pd.set_option('display.max_rows', None)\n",
    "pd.set_option('display.max_columns', None)\n",
    "pd.set_option('display.max_colwidth', None)"
   ]
  },
  {
   "cell_type": "code",
   "execution_count": null,
   "id": "7803f852-f466-47fc-97e6-fca2f82d3476",
   "metadata": {
    "tags": []
   },
   "outputs": [],
   "source": [
    "df = pd.read_csv(PATH_CSV, nrows=SAMPLE_SIZE)\n",
    "df.columns"
   ]
  },
  {
   "cell_type": "code",
   "execution_count": null,
   "id": "e06fbc02-d93d-40a2-97b8-88cebae90064",
   "metadata": {
    "tags": []
   },
   "outputs": [],
   "source": [
    "selected_cols = [\n",
    "    'duration', 'explicit', 'acousticness', 'danceability',\n",
    "    'energy', 'instrumentalness', 'key', 'liveness', 'loudness',\n",
    "    'speechiness','tempo', 'time_signature', 'valence'\n",
    "]"
   ]
  },
  {
   "cell_type": "code",
   "execution_count": null,
   "id": "b791d8c9-aec6-497b-90c5-6cf695aaa98f",
   "metadata": {
    "tags": []
   },
   "outputs": [],
   "source": [
    "scaler = StandardScaler()\n",
    "X_selected = scaler.fit_transform(df[selected_cols])"
   ]
  },
  {
   "cell_type": "code",
   "execution_count": null,
   "id": "593b89ec-a4df-417e-b0f4-6cc5a0956626",
   "metadata": {
    "tags": []
   },
   "outputs": [],
   "source": [
    "pca_music = PCA(n_components=2, random_state=SEED).fit(X_selected)"
   ]
  },
  {
   "cell_type": "code",
   "execution_count": null,
   "id": "005a1f8c-029b-4184-9f45-4d7e4bc127d2",
   "metadata": {
    "tags": []
   },
   "outputs": [],
   "source": [
    "pca_music.explained_variance_"
   ]
  },
  {
   "cell_type": "code",
   "execution_count": null,
   "id": "51f25da3-aab3-40b2-b708-d55c0e6a6737",
   "metadata": {
    "tags": []
   },
   "outputs": [],
   "source": [
    "pca_music.explained_variance_ratio_"
   ]
  },
  {
   "cell_type": "code",
   "execution_count": null,
   "id": "a0ea1ccc-8cac-4cb7-b6a4-b9d51824d6d5",
   "metadata": {
    "tags": []
   },
   "outputs": [],
   "source": [
    "round(\n",
    "    pd.DataFrame(\n",
    "        pca_music.components_.T,\n",
    "        index=selected_cols,\n",
    "        columns=['PCA1', 'PCA2']\n",
    "    ),\n",
    "    3\n",
    ")"
   ]
  },
  {
   "cell_type": "code",
   "execution_count": null,
   "id": "aa4dc962-0ca1-4b3e-a055-15dd1873a602",
   "metadata": {
    "tags": []
   },
   "outputs": [],
   "source": [
    "df['name_cleaned'] = df['name'].str.replace('[^a-zA-Z0-9\\s]', '', regex=True)"
   ]
  },
  {
   "cell_type": "code",
   "execution_count": null,
   "id": "bf712ed5-56b8-4069-a819-a2c25f27470c",
   "metadata": {
    "tags": []
   },
   "outputs": [],
   "source": [
    "X_music_pca = pca_music.transform(X_selected)\n",
    "\n",
    "fig, ax = plt.subplots(figsize=(10, 10))\n",
    "plt.scatter(X_music_pca[:, 0], X_music_pca[:, 1])\n",
    "for i in range(X_selected.shape[0]):\n",
    "    plt.text(\n",
    "        x=X_music_pca[i, 0] + 0.3,\n",
    "        y=X_music_pca[i, 1] + 0.3,\n",
    "        s=df['name_cleaned'][i],\n",
    "        fontdict=dict(color='red', size=5),\n",
    "        bbox=dict(facecolor='yellow', alpha=0.5)\n",
    "    )\n",
    "plt.show()"
   ]
  },
  {
   "cell_type": "code",
   "execution_count": null,
   "id": "34cae6af-1dc3-4e90-8c31-0be3d5882523",
   "metadata": {
    "tags": []
   },
   "outputs": [],
   "source": [
    "target_name = 'Blame on Me'\n",
    "target_name = 'Shine On You Crazy Diamond Pts 15'\n",
    "row = df[df['name_cleaned'] == target_name]\n",
    "row"
   ]
  },
  {
   "cell_type": "code",
   "execution_count": null,
   "id": "991ca39a-6643-474a-92ab-da1a6eb1ab09",
   "metadata": {
    "tags": []
   },
   "outputs": [],
   "source": [
    "tsne = TSNE(verbose=1, random_state=SEED)\n",
    "tsne_results = tsne.fit_transform(X_selected)\n",
    "fig, ax = plt.subplots(figsize=(10, 10))\n",
    "plt.scatter(tsne_results[:, 0], y=tsne_results[:, 1])\n",
    "for i in range(tsne_results.shape[0]):\n",
    "    plt.text(\n",
    "        x=tsne_results[i, 0] + 0.3,\n",
    "        y=tsne_results[i, 1] + 0.3,\n",
    "        s=df['name_cleaned'][i],\n",
    "        fontdict=dict(color='red', size=5),\n",
    "        bbox=dict(facecolor='yellow', alpha=0.5)\n",
    "    )\n",
    "plt.show()"
   ]
  }
 ],
 "metadata": {
  "kernelspec": {
   "display_name": "Python 3 (ipykernel)",
   "language": "python",
   "name": "python3"
  },
  "language_info": {
   "codemirror_mode": {
    "name": "ipython",
    "version": 3
   },
   "file_extension": ".py",
   "mimetype": "text/x-python",
   "name": "python",
   "nbconvert_exporter": "python",
   "pygments_lexer": "ipython3",
   "version": "3.11.4"
  }
 },
 "nbformat": 4,
 "nbformat_minor": 5
}

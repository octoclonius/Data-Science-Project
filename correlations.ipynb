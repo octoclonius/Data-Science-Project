{
 "cells": [
  {
   "cell_type": "code",
   "execution_count": null,
   "id": "6191766a-a25d-4f04-8f66-378e512f2018",
   "metadata": {
    "tags": []
   },
   "outputs": [],
   "source": [
    "import pandas as pd\n",
    "pd.set_option('display.max_rows', None)\n",
    "pd.set_option('display.max_columns', None)\n",
    "pd.set_option('display.max_colwidth', None)\n",
    "import numpy as np\n",
    "import matplotlib.pyplot as plt\n",
    "from sklearn.decomposition import PCA\n",
    "from sklearn.preprocessing import StandardScaler\n",
    "from sklearn.manifold import TSNE\n",
    "import seaborn as sns"
   ]
  },
  {
   "cell_type": "code",
   "execution_count": null,
   "id": "44a3bc91-4ea1-48a2-ba9f-f6867365fe11",
   "metadata": {
    "tags": []
   },
   "outputs": [],
   "source": [
    "PATH_CSV = './top_3827348_songs.csv'\n",
    "SAMPLE_SIZE = 100000\n",
    "SEED = 42"
   ]
  },
  {
   "cell_type": "code",
   "execution_count": null,
   "id": "07fda354-26c2-4f80-86c4-635e097d5f73",
   "metadata": {
    "tags": []
   },
   "outputs": [],
   "source": [
    "def to_str(x):\n",
    "    return x[2:-1]\n",
    "\n",
    "def to_list(x):\n",
    "    return [y for y in to_str(x).split(',')]\n",
    "\n",
    "df = pd.read_csv(\n",
    "    PATH_CSV,\n",
    "    nrows=SAMPLE_SIZE,\n",
    "    usecols=[\n",
    "        'id', 'name', 'duration', 'explicit', 'popularity', 'loudness', 'tempo',\n",
    "        'time_signature', 'key', 'mode', 'acousticness', 'danceability',\n",
    "        'energy', 'instrumentalness', 'liveness', 'speechiness', 'valence'\n",
    "    ],\n",
    "    converters={\n",
    "        'id': to_str, 'name': to_str, 'duration': np.int32, 'explicit': bool,\n",
    "        'popularity': np.int32, 'loudness': np.float32, 'tempo': np.float32,\n",
    "        'time_signature': np.int32, 'key': np.int32, 'mode': bool, 'acousticness': np.float32,\n",
    "        'danceability': np.float32, 'energy': np.float32, 'instrumentalness': np.float32,\n",
    "        'liveness': np.float32, 'speechiness': np.float32, 'valence': np.float32\n",
    "    }\n",
    ")\n",
    "df.head()"
   ]
  },
  {
   "cell_type": "code",
   "execution_count": null,
   "id": "a35885c2-53cb-406d-a64f-f3a60a842e5b",
   "metadata": {
    "tags": []
   },
   "outputs": [],
   "source": [
    "selected_cols = [\n",
    "    'acousticness', 'danceability', 'duration',\n",
    "    'energy', 'explicit', 'instrumentalness', 'key',\n",
    "    'liveness', 'loudness', 'mode', 'popularity',\n",
    "    'speechiness', 'tempo', 'time_signature', 'valence'\n",
    "]\n",
    "\n",
    "df = df[selected_cols]"
   ]
  },
  {
   "cell_type": "code",
   "execution_count": null,
   "id": "47665cd8-a5a5-47e3-bda5-aa703080b49a",
   "metadata": {
    "tags": []
   },
   "outputs": [],
   "source": [
    "df.corr(method='pearson', numeric_only=True)"
   ]
  },
  {
   "cell_type": "code",
   "execution_count": null,
   "id": "e408fcce-b345-4e52-b5b6-e01e2d229670",
   "metadata": {
    "tags": []
   },
   "outputs": [],
   "source": [
    "df.corr(method='spearman', numeric_only=True)"
   ]
  },
  {
   "cell_type": "code",
   "execution_count": null,
   "id": "f54f33ef-ff08-4456-9419-7ce981c2c008",
   "metadata": {
    "tags": []
   },
   "outputs": [],
   "source": [
    "sns.scatterplot(data=df.head(1000), x='instrumentalness', y='popularity')\n",
    "plt.show()"
   ]
  }
 ],
 "metadata": {
  "kernelspec": {
   "display_name": "Python 3 (ipykernel)",
   "language": "python",
   "name": "python3"
  },
  "language_info": {
   "codemirror_mode": {
    "name": "ipython",
    "version": 3
   },
   "file_extension": ".py",
   "mimetype": "text/x-python",
   "name": "python",
   "nbconvert_exporter": "python",
   "pygments_lexer": "ipython3",
   "version": "3.12.2"
  }
 },
 "nbformat": 4,
 "nbformat_minor": 5
}

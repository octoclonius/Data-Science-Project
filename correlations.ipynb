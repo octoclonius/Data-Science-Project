{
 "cells": [
  {
   "cell_type": "code",
   "execution_count": null,
   "id": "6191766a-a25d-4f04-8f66-378e512f2018",
   "metadata": {
    "tags": []
   },
   "outputs": [],
   "source": [
    "import pandas as pd\n",
    "from sklearn.decomposition import PCA\n",
    "from sklearn.preprocessing import StandardScaler\n",
    "import matplotlib.pyplot as plt\n",
    "from sklearn.manifold import TSNE\n",
    "import seaborn as sns"
   ]
  },
  {
   "cell_type": "code",
   "execution_count": null,
   "id": "44a3bc91-4ea1-48a2-ba9f-f6867365fe11",
   "metadata": {
    "tags": []
   },
   "outputs": [],
   "source": [
    "# Settings\n",
    "SEED = 42\n",
    "SAMPLE_SIZE = 100000\n",
    "PATH_CSV = './top_190490_songs.csv'\n",
    "pd.set_option('display.max_rows', None)\n",
    "pd.set_option('display.max_columns', None)\n",
    "pd.set_option('display.max_colwidth', None)"
   ]
  },
  {
   "cell_type": "code",
   "execution_count": null,
   "id": "07fda354-26c2-4f80-86c4-635e097d5f73",
   "metadata": {
    "tags": []
   },
   "outputs": [],
   "source": [
    "df = pd.read_csv(PATH_CSV, nrows=SAMPLE_SIZE)\n",
    "df.columns"
   ]
  },
  {
   "cell_type": "code",
   "execution_count": null,
   "id": "a35885c2-53cb-406d-a64f-f3a60a842e5b",
   "metadata": {
    "tags": []
   },
   "outputs": [],
   "source": [
    "selected_cols = [\n",
    "    'popularity', 'duration', 'explicit', 'acousticness', 'danceability',\n",
    "    'energy', 'instrumentalness', 'key', 'liveness', 'loudness',\n",
    "    'speechiness','tempo', 'time_signature', 'valence'\n",
    "]\n",
    "df = df[selected_cols]"
   ]
  },
  {
   "cell_type": "code",
   "execution_count": null,
   "id": "47665cd8-a5a5-47e3-bda5-aa703080b49a",
   "metadata": {
    "tags": []
   },
   "outputs": [],
   "source": [
    "df.corr(method=\"pearson\", numeric_only=True)"
   ]
  },
  {
   "cell_type": "code",
   "execution_count": null,
   "id": "e408fcce-b345-4e52-b5b6-e01e2d229670",
   "metadata": {
    "tags": []
   },
   "outputs": [],
   "source": [
    "df.corr(method=\"spearman\", numeric_only=True)"
   ]
  },
  {
   "cell_type": "code",
   "execution_count": null,
   "id": "f54f33ef-ff08-4456-9419-7ce981c2c008",
   "metadata": {
    "tags": []
   },
   "outputs": [],
   "source": [
    "small_df = df.head(1000)\n",
    "sns.scatterplot(data=small_df, x=\"instrumentalness\", y=\"popularity\")\n",
    "plt.show()"
   ]
  }
 ],
 "metadata": {
  "kernelspec": {
   "display_name": "Python 3 (ipykernel)",
   "language": "python",
   "name": "python3"
  },
  "language_info": {
   "codemirror_mode": {
    "name": "ipython",
    "version": 3
   },
   "file_extension": ".py",
   "mimetype": "text/x-python",
   "name": "python",
   "nbconvert_exporter": "python",
   "pygments_lexer": "ipython3",
   "version": "3.12.2"
  }
 },
 "nbformat": 4,
 "nbformat_minor": 5
}

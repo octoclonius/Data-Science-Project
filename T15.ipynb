{
 "cells": [
  {
   "cell_type": "code",
   "execution_count": 1,
   "metadata": {},
   "outputs": [],
   "source": [
    "import sqlite3\n",
    "import numpy as np\n",
    "import pandas as pd\n",
    "import matplotlib.pyplot as plt\n",
    "from sklearn.preprocessing import StandardScaler\n",
    "from sklearn.metrics import classification_report\n",
    "from sklearn.manifold import TSNE"
   ]
  },
  {
   "cell_type": "code",
   "execution_count": 2,
   "metadata": {},
   "outputs": [],
   "source": [
    "# Settings\n",
    "SEED = 42\n",
    "PATH_DB = './spotify.sqlite'\n",
    "pd.set_option('display.max_rows', None)\n",
    "pd.set_option('display.max_columns', None)\n",
    "pd.set_option('display.max_colwidth', None)"
   ]
  },
  {
   "cell_type": "code",
   "execution_count": 3,
   "metadata": {},
   "outputs": [],
   "source": [
    "# Open the database in read-only mode\n",
    "con = sqlite3.connect(f'file:{PATH_DB}?mode=ro', uri=True)"
   ]
  },
  {
   "cell_type": "code",
   "execution_count": 4,
   "metadata": {},
   "outputs": [
    {
     "data": {
      "text/html": [
       "<div>\n",
       "<style scoped>\n",
       "    .dataframe tbody tr th:only-of-type {\n",
       "        vertical-align: middle;\n",
       "    }\n",
       "\n",
       "    .dataframe tbody tr th {\n",
       "        vertical-align: top;\n",
       "    }\n",
       "\n",
       "    .dataframe thead th {\n",
       "        text-align: right;\n",
       "    }\n",
       "</style>\n",
       "<table border=\"1\" class=\"dataframe\">\n",
       "  <thead>\n",
       "    <tr style=\"text-align: right;\">\n",
       "      <th></th>\n",
       "      <th>type</th>\n",
       "      <th>name</th>\n",
       "      <th>tbl_name</th>\n",
       "      <th>rootpage</th>\n",
       "      <th>sql</th>\n",
       "    </tr>\n",
       "  </thead>\n",
       "  <tbody>\n",
       "    <tr>\n",
       "      <th>0</th>\n",
       "      <td>table</td>\n",
       "      <td>albums</td>\n",
       "      <td>albums</td>\n",
       "      <td>2</td>\n",
       "      <td>CREATE TABLE albums ([id], [name], [album_group], [album_type], [release_date], [popularity])</td>\n",
       "    </tr>\n",
       "    <tr>\n",
       "      <th>1</th>\n",
       "      <td>table</td>\n",
       "      <td>artists</td>\n",
       "      <td>artists</td>\n",
       "      <td>3</td>\n",
       "      <td>CREATE TABLE artists ([name], [id], [popularity], [followers])</td>\n",
       "    </tr>\n",
       "    <tr>\n",
       "      <th>2</th>\n",
       "      <td>table</td>\n",
       "      <td>audio_features</td>\n",
       "      <td>audio_features</td>\n",
       "      <td>4</td>\n",
       "      <td>CREATE TABLE audio_features ([id], [acousticness], [analysis_url], [danceability], [duration], [energy], [instrumentalness], [key], [liveness], [loudness], [mode], [speechiness], [tempo], [time_signature], [valence])</td>\n",
       "    </tr>\n",
       "    <tr>\n",
       "      <th>3</th>\n",
       "      <td>table</td>\n",
       "      <td>genres</td>\n",
       "      <td>genres</td>\n",
       "      <td>5</td>\n",
       "      <td>CREATE TABLE genres ([id])</td>\n",
       "    </tr>\n",
       "    <tr>\n",
       "      <th>4</th>\n",
       "      <td>table</td>\n",
       "      <td>r_albums_artists</td>\n",
       "      <td>r_albums_artists</td>\n",
       "      <td>6</td>\n",
       "      <td>CREATE TABLE r_albums_artists ([album_id], [artist_id])</td>\n",
       "    </tr>\n",
       "    <tr>\n",
       "      <th>5</th>\n",
       "      <td>table</td>\n",
       "      <td>r_albums_tracks</td>\n",
       "      <td>r_albums_tracks</td>\n",
       "      <td>7</td>\n",
       "      <td>CREATE TABLE r_albums_tracks ([album_id], [track_id])</td>\n",
       "    </tr>\n",
       "    <tr>\n",
       "      <th>6</th>\n",
       "      <td>table</td>\n",
       "      <td>r_artist_genre</td>\n",
       "      <td>r_artist_genre</td>\n",
       "      <td>8</td>\n",
       "      <td>CREATE TABLE r_artist_genre ([genre_id], [artist_id])</td>\n",
       "    </tr>\n",
       "    <tr>\n",
       "      <th>7</th>\n",
       "      <td>table</td>\n",
       "      <td>r_track_artist</td>\n",
       "      <td>r_track_artist</td>\n",
       "      <td>9</td>\n",
       "      <td>CREATE TABLE r_track_artist ([track_id], [artist_id])</td>\n",
       "    </tr>\n",
       "    <tr>\n",
       "      <th>8</th>\n",
       "      <td>table</td>\n",
       "      <td>tracks</td>\n",
       "      <td>tracks</td>\n",
       "      <td>11</td>\n",
       "      <td>CREATE TABLE tracks ([id], [disc_number], [duration], [explicit], [audio_feature_id], [name], [preview_url], [track_number], [popularity], [is_playable])</td>\n",
       "    </tr>\n",
       "  </tbody>\n",
       "</table>\n",
       "</div>"
      ],
      "text/plain": [
       "    type              name          tbl_name  rootpage  \\\n",
       "0  table            albums            albums         2   \n",
       "1  table           artists           artists         3   \n",
       "2  table    audio_features    audio_features         4   \n",
       "3  table            genres            genres         5   \n",
       "4  table  r_albums_artists  r_albums_artists         6   \n",
       "5  table   r_albums_tracks   r_albums_tracks         7   \n",
       "6  table    r_artist_genre    r_artist_genre         8   \n",
       "7  table    r_track_artist    r_track_artist         9   \n",
       "8  table            tracks            tracks        11   \n",
       "\n",
       "                                                                                                                                                                                                                        sql  \n",
       "0                                                                                                                             CREATE TABLE albums ([id], [name], [album_group], [album_type], [release_date], [popularity])  \n",
       "1                                                                                                                                                            CREATE TABLE artists ([name], [id], [popularity], [followers])  \n",
       "2  CREATE TABLE audio_features ([id], [acousticness], [analysis_url], [danceability], [duration], [energy], [instrumentalness], [key], [liveness], [loudness], [mode], [speechiness], [tempo], [time_signature], [valence])  \n",
       "3                                                                                                                                                                                                CREATE TABLE genres ([id])  \n",
       "4                                                                                                                                                                   CREATE TABLE r_albums_artists ([album_id], [artist_id])  \n",
       "5                                                                                                                                                                     CREATE TABLE r_albums_tracks ([album_id], [track_id])  \n",
       "6                                                                                                                                                                     CREATE TABLE r_artist_genre ([genre_id], [artist_id])  \n",
       "7                                                                                                                                                                     CREATE TABLE r_track_artist ([track_id], [artist_id])  \n",
       "8                                                                 CREATE TABLE tracks ([id], [disc_number], [duration], [explicit], [audio_feature_id], [name], [preview_url], [track_number], [popularity], [is_playable])  "
      ]
     },
     "execution_count": 4,
     "metadata": {},
     "output_type": "execute_result"
    }
   ],
   "source": [
    "# Display the database\n",
    "pd.read_sql_query('SELECT * FROM sqlite_master', con)"
   ]
  },
  {
   "cell_type": "code",
   "execution_count": 5,
   "metadata": {},
   "outputs": [],
   "source": [
    "# Close the database connection\n",
    "con.close()"
   ]
  }
 ],
 "metadata": {
  "kernelspec": {
   "display_name": "Python 3",
   "language": "python",
   "name": "python3"
  },
  "language_info": {
   "codemirror_mode": {
    "name": "ipython",
    "version": 3
   },
   "file_extension": ".py",
   "mimetype": "text/x-python",
   "name": "python",
   "nbconvert_exporter": "python",
   "pygments_lexer": "ipython3",
   "version": "3.12.2"
  }
 },
 "nbformat": 4,
 "nbformat_minor": 2
}

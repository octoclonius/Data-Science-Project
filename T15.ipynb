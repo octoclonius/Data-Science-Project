{
 "cells": [
  {
   "cell_type": "code",
   "execution_count": null,
   "metadata": {},
   "outputs": [],
   "source": [
    "import sqlite3\n",
    "import numpy as np\n",
    "import pandas as pd\n",
    "import matplotlib.pyplot as plt\n",
    "from sklearn.preprocessing import StandardScaler\n",
    "from sklearn.metrics import classification_report\n",
    "from sklearn.manifold import TSNE"
   ]
  },
  {
   "cell_type": "code",
   "execution_count": null,
   "metadata": {},
   "outputs": [],
   "source": [
    "# Settings\n",
    "SEED = 42\n",
    "PATH_DB = './spotify.sqlite'\n",
    "pd.set_option('display.max_rows', None)\n",
    "pd.set_option('display.max_columns', None)\n",
    "pd.set_option('display.max_colwidth', None)"
   ]
  },
  {
   "cell_type": "code",
   "execution_count": null,
   "metadata": {},
   "outputs": [],
   "source": [
    "# Open the database in read-only mode\n",
    "con = sqlite3.connect(f'file:{PATH_DB}?mode=ro', uri=True)\n",
    "# Get database preview\n",
    "df_db = pd.read_sql_query('''\n",
    "    SELECT\n",
    "        name, sql\n",
    "    FROM\n",
    "        sqlite_master\n",
    "    WHERE\n",
    "        type = 'table'\n",
    "''', con)\n",
    "# Close the database connection\n",
    "con.close()\n",
    "# Preview database\n",
    "df_db"
   ]
  },
  {
   "cell_type": "code",
   "execution_count": null,
   "metadata": {},
   "outputs": [],
   "source": [
    "con = sqlite3.connect(f'file:{PATH_DB}?mode=ro', uri=True)\n",
    "con.text_factory = bytes\n",
    "df = pd.read_sql_query('''\n",
    "    SELECT\n",
    "        *\n",
    "    FROM\n",
    "        tracks_indexed,\n",
    "        audio_features_indexed\n",
    "    WHERE\n",
    "        tracks_indexed.audio_feature_id = audio_features_indexed.id\n",
    "''', con)\n",
    "con.close()\n",
    "df.head()"
   ]
  }
 ],
 "metadata": {
  "kernelspec": {
   "display_name": "Python 3",
   "language": "python",
   "name": "python3"
  },
  "language_info": {
   "codemirror_mode": {
    "name": "ipython",
    "version": 3
   },
   "file_extension": ".py",
   "mimetype": "text/x-python",
   "name": "python",
   "nbconvert_exporter": "python",
   "pygments_lexer": "ipython3",
   "version": "3.12.2"
  }
 },
 "nbformat": 4,
 "nbformat_minor": 2
}

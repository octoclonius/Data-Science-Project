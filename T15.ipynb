{
 "cells": [
  {
   "cell_type": "code",
   "execution_count": 1,
   "metadata": {},
   "outputs": [],
   "source": [
    "import sqlite3"
   ]
  },
  {
   "cell_type": "code",
   "execution_count": 2,
   "metadata": {},
   "outputs": [],
   "source": [
    "# Global variables\n",
    "SEED = 42\n",
    "PATH_DB = './spotify.sqlite'"
   ]
  },
  {
   "cell_type": "markdown",
   "metadata": {},
   "source": [
    "Tables in spotify.sqlite:\n",
    "- albums\n",
    "- artists\n",
    "- audio_features\n",
    "- genres\n",
    "- r_albums_artists\n",
    "- r_albums_tracks\n",
    "- r_artist_genre\n",
    "- r_track_artist\n",
    "- tracks"
   ]
  },
  {
   "cell_type": "code",
   "execution_count": 3,
   "metadata": {},
   "outputs": [
    {
     "name": "stdout",
     "output_type": "stream",
     "text": [
      "Number of tracks: 8741672\n"
     ]
    }
   ],
   "source": [
    "# Open the database in read-only mode\n",
    "con = sqlite3.connect(f'file:{PATH_DB}?mode=ro', uri=True)\n",
    "\n",
    "# Create and return a Cursor object\n",
    "cur = con.cursor()\n",
    "\n",
    "# Execute a single SQL statement\n",
    "cur.execute('SELECT COUNT(*) FROM tracks')\n",
    "\n",
    "# Return the next row query result set as a tuple\n",
    "res = cur.fetchone()\n",
    "\n",
    "# Close the database connection\n",
    "con.close()\n",
    "\n",
    "# Print the number of tracks\n",
    "print(f'Number of tracks: {res[0]}')"
   ]
  }
 ],
 "metadata": {
  "kernelspec": {
   "display_name": "Python 3",
   "language": "python",
   "name": "python3"
  },
  "language_info": {
   "codemirror_mode": {
    "name": "ipython",
    "version": 3
   },
   "file_extension": ".py",
   "mimetype": "text/x-python",
   "name": "python",
   "nbconvert_exporter": "python",
   "pygments_lexer": "ipython3",
   "version": "3.12.2"
  }
 },
 "nbformat": 4,
 "nbformat_minor": 2
}

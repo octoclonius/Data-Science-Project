{
 "cells": [
  {
   "cell_type": "code",
   "execution_count": 11,
   "metadata": {
    "tags": []
   },
   "outputs": [],
   "source": [
    "import sqlite3\n",
    "import numpy as np\n",
    "import pandas as pd\n",
    "import matplotlib.pyplot as plt\n",
    "from sklearn.preprocessing import StandardScaler\n",
    "from sklearn.metrics import classification_report\n",
    "from sklearn.manifold import TSNE"
   ]
  },
  {
   "cell_type": "code",
   "execution_count": 12,
   "metadata": {
    "tags": []
   },
   "outputs": [],
   "source": [
    "# Settings\n",
    "SEED = 42\n",
    "PATH_DB = './spotify.sqlite'\n",
    "pd.set_option('display.max_rows', None)\n",
    "pd.set_option('display.max_columns', None)\n",
    "pd.set_option('display.max_colwidth', None)"
   ]
  },
  {
   "cell_type": "code",
   "execution_count": 13,
   "metadata": {
    "tags": []
   },
   "outputs": [
    {
     "data": {
      "text/html": [
       "<div>\n",
       "<style scoped>\n",
       "    .dataframe tbody tr th:only-of-type {\n",
       "        vertical-align: middle;\n",
       "    }\n",
       "\n",
       "    .dataframe tbody tr th {\n",
       "        vertical-align: top;\n",
       "    }\n",
       "\n",
       "    .dataframe thead th {\n",
       "        text-align: right;\n",
       "    }\n",
       "</style>\n",
       "<table border=\"1\" class=\"dataframe\">\n",
       "  <thead>\n",
       "    <tr style=\"text-align: right;\">\n",
       "      <th></th>\n",
       "      <th>name</th>\n",
       "      <th>sql</th>\n",
       "    </tr>\n",
       "  </thead>\n",
       "  <tbody>\n",
       "    <tr>\n",
       "      <th>0</th>\n",
       "      <td>albums</td>\n",
       "      <td>CREATE TABLE albums ([id], [name], [album_group], [album_type], [release_date], [popularity])</td>\n",
       "    </tr>\n",
       "    <tr>\n",
       "      <th>1</th>\n",
       "      <td>artists</td>\n",
       "      <td>CREATE TABLE artists ([name], [id], [popularity], [followers])</td>\n",
       "    </tr>\n",
       "    <tr>\n",
       "      <th>2</th>\n",
       "      <td>audio_features</td>\n",
       "      <td>CREATE TABLE audio_features ([id], [acousticness], [analysis_url], [danceability], [duration], [energy], [instrumentalness], [key], [liveness], [loudness], [mode], [speechiness], [tempo], [time_signature], [valence])</td>\n",
       "    </tr>\n",
       "    <tr>\n",
       "      <th>3</th>\n",
       "      <td>genres</td>\n",
       "      <td>CREATE TABLE genres ([id])</td>\n",
       "    </tr>\n",
       "    <tr>\n",
       "      <th>4</th>\n",
       "      <td>r_albums_artists</td>\n",
       "      <td>CREATE TABLE r_albums_artists ([album_id], [artist_id])</td>\n",
       "    </tr>\n",
       "    <tr>\n",
       "      <th>5</th>\n",
       "      <td>r_albums_tracks</td>\n",
       "      <td>CREATE TABLE r_albums_tracks ([album_id], [track_id])</td>\n",
       "    </tr>\n",
       "    <tr>\n",
       "      <th>6</th>\n",
       "      <td>r_artist_genre</td>\n",
       "      <td>CREATE TABLE r_artist_genre ([genre_id], [artist_id])</td>\n",
       "    </tr>\n",
       "    <tr>\n",
       "      <th>7</th>\n",
       "      <td>r_track_artist</td>\n",
       "      <td>CREATE TABLE r_track_artist ([track_id], [artist_id])</td>\n",
       "    </tr>\n",
       "    <tr>\n",
       "      <th>8</th>\n",
       "      <td>tracks</td>\n",
       "      <td>CREATE TABLE tracks ([id], [disc_number], [duration], [explicit], [audio_feature_id], [name], [preview_url], [track_number], [popularity], [is_playable])</td>\n",
       "    </tr>\n",
       "    <tr>\n",
       "      <th>9</th>\n",
       "      <td>artists_indexed</td>\n",
       "      <td>CREATE TABLE artists_indexed (\\n        id TEXT PRIMARY KEY,\\n        name TEXT NOT NULL,\\n        followers INTEGER,\\n        popularity INTEGER NOT NULL\\n    )</td>\n",
       "    </tr>\n",
       "    <tr>\n",
       "      <th>10</th>\n",
       "      <td>albums_indexed</td>\n",
       "      <td>CREATE TABLE albums_indexed (\\n        id TEXT PRIMARY KEY,\\n        name TEXT NOT NULL,\\n        album_type TEXT,\\n        release_date TEXT,\\n        popularity INTEGER NOT NULL\\n    )</td>\n",
       "    </tr>\n",
       "    <tr>\n",
       "      <th>11</th>\n",
       "      <td>tracks_indexed</td>\n",
       "      <td>CREATE TABLE tracks_indexed (\\n        id TEXT PRIMARY KEY,\\n        name TEXT NOT NULL,\\n        duration INTEGER,\\n        explicit INTEGER,\\n        audio_feature_id TEXT NOT NULL,\\n        popularity INTEGER NOT NULL,\\n        UNIQUE(audio_feature_id)\\n    )</td>\n",
       "    </tr>\n",
       "    <tr>\n",
       "      <th>12</th>\n",
       "      <td>audio_features_indexed</td>\n",
       "      <td>CREATE TABLE audio_features_indexed (\\n        id TEXT PRIMARY KEY,\\n        analysis_url TEXT,\\n        loudness REAL,\\n        tempo REAL,\\n        time_signature INTEGER,\\n        key INTEGER,\\n        mode INTEGER,\\n        acousticness REAL,\\n        danceability REAL,\\n        energy REAL,\\n        instrumentalness REAL,\\n        liveness REAL,\\n        speechiness REAL,\\n        valence REAL,\\n        UNIQUE(analysis_url)\\n    )</td>\n",
       "    </tr>\n",
       "  </tbody>\n",
       "</table>\n",
       "</div>"
      ],
      "text/plain": [
       "                      name  \\\n",
       "0                   albums   \n",
       "1                  artists   \n",
       "2           audio_features   \n",
       "3                   genres   \n",
       "4         r_albums_artists   \n",
       "5          r_albums_tracks   \n",
       "6           r_artist_genre   \n",
       "7           r_track_artist   \n",
       "8                   tracks   \n",
       "9          artists_indexed   \n",
       "10          albums_indexed   \n",
       "11          tracks_indexed   \n",
       "12  audio_features_indexed   \n",
       "\n",
       "                                                                                                                                                                                                                                                                                                                                                                                                                                                        sql  \n",
       "0                                                                                                                                                                                                                                                                                                                                                             CREATE TABLE albums ([id], [name], [album_group], [album_type], [release_date], [popularity])  \n",
       "1                                                                                                                                                                                                                                                                                                                                                                                            CREATE TABLE artists ([name], [id], [popularity], [followers])  \n",
       "2                                                                                                                                                                                                                                  CREATE TABLE audio_features ([id], [acousticness], [analysis_url], [danceability], [duration], [energy], [instrumentalness], [key], [liveness], [loudness], [mode], [speechiness], [tempo], [time_signature], [valence])  \n",
       "3                                                                                                                                                                                                                                                                                                                                                                                                                                CREATE TABLE genres ([id])  \n",
       "4                                                                                                                                                                                                                                                                                                                                                                                                   CREATE TABLE r_albums_artists ([album_id], [artist_id])  \n",
       "5                                                                                                                                                                                                                                                                                                                                                                                                     CREATE TABLE r_albums_tracks ([album_id], [track_id])  \n",
       "6                                                                                                                                                                                                                                                                                                                                                                                                     CREATE TABLE r_artist_genre ([genre_id], [artist_id])  \n",
       "7                                                                                                                                                                                                                                                                                                                                                                                                     CREATE TABLE r_track_artist ([track_id], [artist_id])  \n",
       "8                                                                                                                                                                                                                                                                                                 CREATE TABLE tracks ([id], [disc_number], [duration], [explicit], [audio_feature_id], [name], [preview_url], [track_number], [popularity], [is_playable])  \n",
       "9                                                                                                                                                                                                                                                                                         CREATE TABLE artists_indexed (\\n        id TEXT PRIMARY KEY,\\n        name TEXT NOT NULL,\\n        followers INTEGER,\\n        popularity INTEGER NOT NULL\\n    )  \n",
       "10                                                                                                                                                                                                                                                               CREATE TABLE albums_indexed (\\n        id TEXT PRIMARY KEY,\\n        name TEXT NOT NULL,\\n        album_type TEXT,\\n        release_date TEXT,\\n        popularity INTEGER NOT NULL\\n    )  \n",
       "11                                                                                                                                                                                   CREATE TABLE tracks_indexed (\\n        id TEXT PRIMARY KEY,\\n        name TEXT NOT NULL,\\n        duration INTEGER,\\n        explicit INTEGER,\\n        audio_feature_id TEXT NOT NULL,\\n        popularity INTEGER NOT NULL,\\n        UNIQUE(audio_feature_id)\\n    )  \n",
       "12  CREATE TABLE audio_features_indexed (\\n        id TEXT PRIMARY KEY,\\n        analysis_url TEXT,\\n        loudness REAL,\\n        tempo REAL,\\n        time_signature INTEGER,\\n        key INTEGER,\\n        mode INTEGER,\\n        acousticness REAL,\\n        danceability REAL,\\n        energy REAL,\\n        instrumentalness REAL,\\n        liveness REAL,\\n        speechiness REAL,\\n        valence REAL,\\n        UNIQUE(analysis_url)\\n    )  "
      ]
     },
     "execution_count": 13,
     "metadata": {},
     "output_type": "execute_result"
    }
   ],
   "source": [
    "# Open the database in read-only mode\n",
    "con = sqlite3.connect(f'file:{PATH_DB}?mode=ro', uri=True)\n",
    "# Get database preview\n",
    "df_db = pd.read_sql_query('''\n",
    "    SELECT\n",
    "        name, sql\n",
    "    FROM\n",
    "        sqlite_master\n",
    "    WHERE\n",
    "        type = 'table'\n",
    "''', con)\n",
    "# Close the database connection\n",
    "con.close()\n",
    "# Preview database\n",
    "df_db"
   ]
  },
  {
   "cell_type": "code",
   "execution_count": null,
   "metadata": {
    "tags": []
   },
   "outputs": [],
   "source": [
    "con = sqlite3.connect(f'file:{PATH_DB}?mode=ro', uri=True)\n",
    "con.text_factory = bytes\n",
    "df = pd.read_sql_query('''\n",
    "    SELECT\n",
    "        *\n",
    "    FROM\n",
    "        tracks_indexed,\n",
    "        audio_features_indexed\n",
    "    WHERE\n",
    "        tracks_indexed.audio_feature_id = audio_features_indexed.id\n",
    "''', con)\n",
    "con.close()\n",
    "df.head()"
   ]
  }
 ],
 "metadata": {
  "kernelspec": {
   "display_name": "Python 3 (ipykernel)",
   "language": "python",
   "name": "python3"
  },
  "language_info": {
   "codemirror_mode": {
    "name": "ipython",
    "version": 3
   },
   "file_extension": ".py",
   "mimetype": "text/x-python",
   "name": "python",
   "nbconvert_exporter": "python",
   "pygments_lexer": "ipython3",
   "version": "3.11.4"
  }
 },
 "nbformat": 4,
 "nbformat_minor": 4
}
